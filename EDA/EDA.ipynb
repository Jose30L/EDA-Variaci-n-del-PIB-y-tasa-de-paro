{
 "cells": [
  {
   "cell_type": "markdown",
   "metadata": {},
   "source": [
    "# Estudio del impacto de la tasa de variación del PIB en la tasa de paro\n",
    "## Exploratory Data Analysis (EDA)\n",
    "### por Jose Antonio Moreno De Castro\n",
    "### Mayo 2022"
   ]
  },
  {
   "cell_type": "markdown",
   "metadata": {},
   "source": [
    "## Importación de librerias necesarias"
   ]
  },
  {
   "cell_type": "code",
   "execution_count": 188,
   "metadata": {},
   "outputs": [],
   "source": [
    "import numpy as np\n",
    "import pandas as pd\n",
    "import datetime as dt\n",
    "import matplotlib.pyplot as plt\n",
    "import scipy.stats as ss\n",
    "import seaborn as sns\n",
    "import matplotlib as mpl"
   ]
  },
  {
   "cell_type": "markdown",
   "metadata": {},
   "source": [
    "## Importación de datos"
   ]
  },
  {
   "cell_type": "code",
   "execution_count": 189,
   "metadata": {},
   "outputs": [],
   "source": [
    "# Importamos los dos dataset que vamos a utilizar:\n",
    "Tasas_paro=pd.read_excel('C:\\\\Users\\\\jmore\\\\THE_BRIDGE_FEB22\\\\EDA\\src\\\\data\\\\Tasas_paro.xlsx')\n",
    "Var_PIB=pd.read_excel('C:\\\\Users\\\\jmore\\\\THE_BRIDGE_FEB22\\\\EDA\\\\src\\\\data\\\\VAR_PIB.xlsx')"
   ]
  },
  {
   "cell_type": "code",
   "execution_count": 190,
   "metadata": {},
   "outputs": [
    {
     "data": {
      "text/html": [
       "<div>\n",
       "<style scoped>\n",
       "    .dataframe tbody tr th:only-of-type {\n",
       "        vertical-align: middle;\n",
       "    }\n",
       "\n",
       "    .dataframe tbody tr th {\n",
       "        vertical-align: top;\n",
       "    }\n",
       "\n",
       "    .dataframe thead th {\n",
       "        text-align: right;\n",
       "    }\n",
       "</style>\n",
       "<table border=\"1\" class=\"dataframe\">\n",
       "  <thead>\n",
       "    <tr style=\"text-align: right;\">\n",
       "      <th></th>\n",
       "      <th>Periodo</th>\n",
       "      <th>Comunidad</th>\n",
       "      <th>Total</th>\n",
       "      <th>Menores_25</th>\n",
       "      <th>Mayores_25</th>\n",
       "      <th>Parados_hombres</th>\n",
       "      <th>Parados_mujeres</th>\n",
       "    </tr>\n",
       "  </thead>\n",
       "  <tbody>\n",
       "    <tr>\n",
       "      <th>0</th>\n",
       "      <td>2021T4</td>\n",
       "      <td>Total_Nacional</td>\n",
       "      <td>13.33</td>\n",
       "      <td>30.70</td>\n",
       "      <td>12.15</td>\n",
       "      <td>11.79</td>\n",
       "      <td>15.04</td>\n",
       "    </tr>\n",
       "    <tr>\n",
       "      <th>1</th>\n",
       "      <td>2021T4</td>\n",
       "      <td>Andalucía</td>\n",
       "      <td>20.18</td>\n",
       "      <td>39.15</td>\n",
       "      <td>18.87</td>\n",
       "      <td>17.21</td>\n",
       "      <td>23.67</td>\n",
       "    </tr>\n",
       "    <tr>\n",
       "      <th>2</th>\n",
       "      <td>2021T4</td>\n",
       "      <td>Aragón</td>\n",
       "      <td>9.02</td>\n",
       "      <td>19.61</td>\n",
       "      <td>8.28</td>\n",
       "      <td>8.17</td>\n",
       "      <td>9.96</td>\n",
       "    </tr>\n",
       "    <tr>\n",
       "      <th>3</th>\n",
       "      <td>2021T4</td>\n",
       "      <td>Asturias</td>\n",
       "      <td>10.01</td>\n",
       "      <td>10.43</td>\n",
       "      <td>10.00</td>\n",
       "      <td>9.67</td>\n",
       "      <td>10.39</td>\n",
       "    </tr>\n",
       "    <tr>\n",
       "      <th>4</th>\n",
       "      <td>2021T4</td>\n",
       "      <td>Islas_Baleares</td>\n",
       "      <td>14.90</td>\n",
       "      <td>32.04</td>\n",
       "      <td>13.95</td>\n",
       "      <td>14.19</td>\n",
       "      <td>15.68</td>\n",
       "    </tr>\n",
       "    <tr>\n",
       "      <th>...</th>\n",
       "      <td>...</td>\n",
       "      <td>...</td>\n",
       "      <td>...</td>\n",
       "      <td>...</td>\n",
       "      <td>...</td>\n",
       "      <td>...</td>\n",
       "      <td>...</td>\n",
       "    </tr>\n",
       "    <tr>\n",
       "      <th>1595</th>\n",
       "      <td>2002T1</td>\n",
       "      <td>Navarra</td>\n",
       "      <td>6.03</td>\n",
       "      <td>13.51</td>\n",
       "      <td>5.03</td>\n",
       "      <td>3.67</td>\n",
       "      <td>9.68</td>\n",
       "    </tr>\n",
       "    <tr>\n",
       "      <th>1596</th>\n",
       "      <td>2002T1</td>\n",
       "      <td>País_Vasco</td>\n",
       "      <td>9.56</td>\n",
       "      <td>18.10</td>\n",
       "      <td>8.64</td>\n",
       "      <td>6.20</td>\n",
       "      <td>14.39</td>\n",
       "    </tr>\n",
       "    <tr>\n",
       "      <th>1597</th>\n",
       "      <td>2002T1</td>\n",
       "      <td>La_Rioja</td>\n",
       "      <td>7.05</td>\n",
       "      <td>15.05</td>\n",
       "      <td>6.04</td>\n",
       "      <td>5.75</td>\n",
       "      <td>9.41</td>\n",
       "    </tr>\n",
       "    <tr>\n",
       "      <th>1598</th>\n",
       "      <td>2002T1</td>\n",
       "      <td>Ceuta</td>\n",
       "      <td>7.01</td>\n",
       "      <td>23.28</td>\n",
       "      <td>4.80</td>\n",
       "      <td>4.57</td>\n",
       "      <td>12.12</td>\n",
       "    </tr>\n",
       "    <tr>\n",
       "      <th>1599</th>\n",
       "      <td>2002T1</td>\n",
       "      <td>Melilla</td>\n",
       "      <td>10.30</td>\n",
       "      <td>26.66</td>\n",
       "      <td>7.55</td>\n",
       "      <td>6.21</td>\n",
       "      <td>18.12</td>\n",
       "    </tr>\n",
       "  </tbody>\n",
       "</table>\n",
       "<p>1600 rows × 7 columns</p>\n",
       "</div>"
      ],
      "text/plain": [
       "     Periodo       Comunidad  Total  Menores_25  Mayores_25  Parados_hombres  \\\n",
       "0     2021T4  Total_Nacional  13.33       30.70       12.15            11.79   \n",
       "1     2021T4       Andalucía  20.18       39.15       18.87            17.21   \n",
       "2     2021T4          Aragón   9.02       19.61        8.28             8.17   \n",
       "3     2021T4        Asturias  10.01       10.43       10.00             9.67   \n",
       "4     2021T4  Islas_Baleares  14.90       32.04       13.95            14.19   \n",
       "...      ...             ...    ...         ...         ...              ...   \n",
       "1595  2002T1         Navarra   6.03       13.51        5.03             3.67   \n",
       "1596  2002T1      País_Vasco   9.56       18.10        8.64             6.20   \n",
       "1597  2002T1        La_Rioja   7.05       15.05        6.04             5.75   \n",
       "1598  2002T1           Ceuta   7.01       23.28        4.80             4.57   \n",
       "1599  2002T1         Melilla  10.30       26.66        7.55             6.21   \n",
       "\n",
       "      Parados_mujeres  \n",
       "0               15.04  \n",
       "1               23.67  \n",
       "2                9.96  \n",
       "3               10.39  \n",
       "4               15.68  \n",
       "...               ...  \n",
       "1595             9.68  \n",
       "1596            14.39  \n",
       "1597             9.41  \n",
       "1598            12.12  \n",
       "1599            18.12  \n",
       "\n",
       "[1600 rows x 7 columns]"
      ]
     },
     "execution_count": 190,
     "metadata": {},
     "output_type": "execute_result"
    }
   ],
   "source": [
    "Tasas_paro"
   ]
  },
  {
   "cell_type": "code",
   "execution_count": 191,
   "metadata": {},
   "outputs": [
    {
     "data": {
      "text/html": [
       "<div>\n",
       "<style scoped>\n",
       "    .dataframe tbody tr th:only-of-type {\n",
       "        vertical-align: middle;\n",
       "    }\n",
       "\n",
       "    .dataframe tbody tr th {\n",
       "        vertical-align: top;\n",
       "    }\n",
       "\n",
       "    .dataframe thead th {\n",
       "        text-align: right;\n",
       "    }\n",
       "</style>\n",
       "<table border=\"1\" class=\"dataframe\">\n",
       "  <thead>\n",
       "    <tr style=\"text-align: right;\">\n",
       "      <th></th>\n",
       "      <th>Periodo</th>\n",
       "      <th>Var_PIB</th>\n",
       "    </tr>\n",
       "  </thead>\n",
       "  <tbody>\n",
       "    <tr>\n",
       "      <th>0</th>\n",
       "      <td>2021T4</td>\n",
       "      <td>4.7583</td>\n",
       "    </tr>\n",
       "    <tr>\n",
       "      <th>1</th>\n",
       "      <td>2021T4</td>\n",
       "      <td>4.7583</td>\n",
       "    </tr>\n",
       "    <tr>\n",
       "      <th>2</th>\n",
       "      <td>2021T4</td>\n",
       "      <td>4.7583</td>\n",
       "    </tr>\n",
       "    <tr>\n",
       "      <th>3</th>\n",
       "      <td>2021T4</td>\n",
       "      <td>4.7583</td>\n",
       "    </tr>\n",
       "    <tr>\n",
       "      <th>4</th>\n",
       "      <td>2021T4</td>\n",
       "      <td>4.7583</td>\n",
       "    </tr>\n",
       "    <tr>\n",
       "      <th>...</th>\n",
       "      <td>...</td>\n",
       "      <td>...</td>\n",
       "    </tr>\n",
       "    <tr>\n",
       "      <th>1595</th>\n",
       "      <td>2002T1</td>\n",
       "      <td>1.5069</td>\n",
       "    </tr>\n",
       "    <tr>\n",
       "      <th>1596</th>\n",
       "      <td>2002T1</td>\n",
       "      <td>1.5069</td>\n",
       "    </tr>\n",
       "    <tr>\n",
       "      <th>1597</th>\n",
       "      <td>2002T1</td>\n",
       "      <td>1.5069</td>\n",
       "    </tr>\n",
       "    <tr>\n",
       "      <th>1598</th>\n",
       "      <td>2002T1</td>\n",
       "      <td>1.5069</td>\n",
       "    </tr>\n",
       "    <tr>\n",
       "      <th>1599</th>\n",
       "      <td>2002T1</td>\n",
       "      <td>1.5069</td>\n",
       "    </tr>\n",
       "  </tbody>\n",
       "</table>\n",
       "<p>1600 rows × 2 columns</p>\n",
       "</div>"
      ],
      "text/plain": [
       "     Periodo  Var_PIB\n",
       "0     2021T4   4.7583\n",
       "1     2021T4   4.7583\n",
       "2     2021T4   4.7583\n",
       "3     2021T4   4.7583\n",
       "4     2021T4   4.7583\n",
       "...      ...      ...\n",
       "1595  2002T1   1.5069\n",
       "1596  2002T1   1.5069\n",
       "1597  2002T1   1.5069\n",
       "1598  2002T1   1.5069\n",
       "1599  2002T1   1.5069\n",
       "\n",
       "[1600 rows x 2 columns]"
      ]
     },
     "execution_count": 191,
     "metadata": {},
     "output_type": "execute_result"
    }
   ],
   "source": [
    "Var_PIB"
   ]
  },
  {
   "cell_type": "markdown",
   "metadata": {},
   "source": [
    "## Detalle del dataset:\n",
    "\n",
    "### Tasas_paro:\n",
    "\n",
    "Este dataset contiene los datos de las tasas de paro en España de los ultimos 20 años (desde el año 2002 hasta el año 2021) divididas en trimestres, en el dataset podemos encontrar las tasas de paro trimestrales de cada una de las comunidades autónomas además de la tasa de paro a nivel nacional. \n",
    "\n",
    "Los datos están separados en 7 columnas, 5 de ellas son categorias referidas a un grupo poblacional concreto:\n",
    "\n",
    "1. Periodo: Esto se refiere al año y trimestre de este, por ejemplo 2017T2 se refiere al segundo trimestre (T2) del 2017.\n",
    "2. Comunidad: Esta columna contiene los datos referidos a cada una de las comunidades autónomas o al total nacional.\n",
    "3. Total: Tasa de paro total de cada región indicada refiriendose al total de la población.\n",
    "4. Menores_25: Se refiere a la tasa de paro juvenil, que es la tasa de paro del conjunto de la población menor de 25 años.\n",
    "5. Mayores_25: Se refiere a la tasa de paro del conjunto de la población con una edad igual o mayor a 25 años.\n",
    "6. Parados_hombres: Tasa de paro del conjunto de la población masculina.\n",
    "7. Parados_mujeres: Tasa de paro del conjunto de la población femenina.\n",
    "\n",
    "### Var_PIB:\n",
    "\n",
    "Este dataset contiene los datos de la tasa de variación del PIB de los últimos 20 años en España dividido en trimestres al igual que el primer dataset de las tasas de paro, la diferencia es que en esta ocasión los datos son a nivel nacional por lo que tomaremos el dato nacional para cada una de las diferentes comunidades autónomas.\n",
    "\n",
    "Los datos están separados en tan solo 2 columnas:\n",
    "\n",
    "1. Periodo: Esto se refiere al año y trimestre de este, por ejemplo 2017T2 se refiere al segundo trimestre (T2) del 2017. Esta columna es exactamente idéntica a la del anterior dataset ya que se refiere a los datos comprendidos entre el primer trimestre de 2002 y el cuarto trimestre de 2021 por lo que al unirlos solo aparecerá una vez.\n",
    "\n",
    "2. Var_PIB: En esta columna tenemos las tasas de las variaciones trimestrales del PIB para cada trimestre de cada año desde el 2002 hasta el 2021.\n",
    "\n",
    "### Fuentes:\n",
    "\n",
    "Todos estos datos han sido sacados de la pagina wec el INE (Instituto Nacional de Estadística) `https://ine.es/index.htm` un organismo autónomo encargado de la coordinación general de los servicios estadísticos de la Administración General del Estado y la vigilancia, control y supervisión de los procedimientos técnicos de los mismos.\n",
    "Entre los trabajos que realiza, destacan las estadísticas sobre la demografía, economía, y sociedad españolas. A través de la página web oficial se pueden seguir todas las actualizaciones de los distintos trabajos y estudios.\n",
    "\n",
    "\n"
   ]
  },
  {
   "cell_type": "markdown",
   "metadata": {},
   "source": [
    "## 1. Preparación del dataset\n",
    "\n",
    "En este caso los datos están bastante limpios, por lo que únicamente necesitaríamos juntar las dos bases de datos"
   ]
  },
  {
   "cell_type": "code",
   "execution_count": 192,
   "metadata": {},
   "outputs": [],
   "source": [
    "# Primero eliminamos la columna \"Periodo\" ya que aparece en ambos dataset y es exactamente igual:\n",
    "VarPIB=Var_PIB.drop(['Periodo'], axis=1)"
   ]
  },
  {
   "cell_type": "code",
   "execution_count": 193,
   "metadata": {},
   "outputs": [
    {
     "data": {
      "text/html": [
       "<div>\n",
       "<style scoped>\n",
       "    .dataframe tbody tr th:only-of-type {\n",
       "        vertical-align: middle;\n",
       "    }\n",
       "\n",
       "    .dataframe tbody tr th {\n",
       "        vertical-align: top;\n",
       "    }\n",
       "\n",
       "    .dataframe thead th {\n",
       "        text-align: right;\n",
       "    }\n",
       "</style>\n",
       "<table border=\"1\" class=\"dataframe\">\n",
       "  <thead>\n",
       "    <tr style=\"text-align: right;\">\n",
       "      <th></th>\n",
       "      <th>Var_PIB</th>\n",
       "    </tr>\n",
       "  </thead>\n",
       "  <tbody>\n",
       "    <tr>\n",
       "      <th>0</th>\n",
       "      <td>4.7583</td>\n",
       "    </tr>\n",
       "    <tr>\n",
       "      <th>1</th>\n",
       "      <td>4.7583</td>\n",
       "    </tr>\n",
       "    <tr>\n",
       "      <th>2</th>\n",
       "      <td>4.7583</td>\n",
       "    </tr>\n",
       "    <tr>\n",
       "      <th>3</th>\n",
       "      <td>4.7583</td>\n",
       "    </tr>\n",
       "    <tr>\n",
       "      <th>4</th>\n",
       "      <td>4.7583</td>\n",
       "    </tr>\n",
       "    <tr>\n",
       "      <th>...</th>\n",
       "      <td>...</td>\n",
       "    </tr>\n",
       "    <tr>\n",
       "      <th>1595</th>\n",
       "      <td>1.5069</td>\n",
       "    </tr>\n",
       "    <tr>\n",
       "      <th>1596</th>\n",
       "      <td>1.5069</td>\n",
       "    </tr>\n",
       "    <tr>\n",
       "      <th>1597</th>\n",
       "      <td>1.5069</td>\n",
       "    </tr>\n",
       "    <tr>\n",
       "      <th>1598</th>\n",
       "      <td>1.5069</td>\n",
       "    </tr>\n",
       "    <tr>\n",
       "      <th>1599</th>\n",
       "      <td>1.5069</td>\n",
       "    </tr>\n",
       "  </tbody>\n",
       "</table>\n",
       "<p>1600 rows × 1 columns</p>\n",
       "</div>"
      ],
      "text/plain": [
       "      Var_PIB\n",
       "0      4.7583\n",
       "1      4.7583\n",
       "2      4.7583\n",
       "3      4.7583\n",
       "4      4.7583\n",
       "...       ...\n",
       "1595   1.5069\n",
       "1596   1.5069\n",
       "1597   1.5069\n",
       "1598   1.5069\n",
       "1599   1.5069\n",
       "\n",
       "[1600 rows x 1 columns]"
      ]
     },
     "execution_count": 193,
     "metadata": {},
     "output_type": "execute_result"
    }
   ],
   "source": [
    "VarPIB"
   ]
  },
  {
   "cell_type": "code",
   "execution_count": 194,
   "metadata": {},
   "outputs": [
    {
     "name": "stdout",
     "output_type": "stream",
     "text": [
      "<class 'pandas.core.frame.DataFrame'>\n",
      "RangeIndex: 1600 entries, 0 to 1599\n",
      "Data columns (total 2 columns):\n",
      " #   Column   Non-Null Count  Dtype  \n",
      "---  ------   --------------  -----  \n",
      " 0   Periodo  1600 non-null   object \n",
      " 1   Var_PIB  1600 non-null   float64\n",
      "dtypes: float64(1), object(1)\n",
      "memory usage: 25.1+ KB\n"
     ]
    }
   ],
   "source": [
    "Var_PIB.info()"
   ]
  },
  {
   "cell_type": "code",
   "execution_count": 195,
   "metadata": {},
   "outputs": [
    {
     "data": {
      "text/html": [
       "<div>\n",
       "<style scoped>\n",
       "    .dataframe tbody tr th:only-of-type {\n",
       "        vertical-align: middle;\n",
       "    }\n",
       "\n",
       "    .dataframe tbody tr th {\n",
       "        vertical-align: top;\n",
       "    }\n",
       "\n",
       "    .dataframe thead th {\n",
       "        text-align: right;\n",
       "    }\n",
       "</style>\n",
       "<table border=\"1\" class=\"dataframe\">\n",
       "  <thead>\n",
       "    <tr style=\"text-align: right;\">\n",
       "      <th></th>\n",
       "      <th>Periodo</th>\n",
       "      <th>Comunidad</th>\n",
       "      <th>Total</th>\n",
       "      <th>Menores_25</th>\n",
       "      <th>Mayores_25</th>\n",
       "      <th>Parados_hombres</th>\n",
       "      <th>Parados_mujeres</th>\n",
       "      <th>Var_PIB</th>\n",
       "    </tr>\n",
       "  </thead>\n",
       "  <tbody>\n",
       "    <tr>\n",
       "      <th>0</th>\n",
       "      <td>2021T4</td>\n",
       "      <td>Total_Nacional</td>\n",
       "      <td>13.33</td>\n",
       "      <td>30.70</td>\n",
       "      <td>12.15</td>\n",
       "      <td>11.79</td>\n",
       "      <td>15.04</td>\n",
       "      <td>4.7583</td>\n",
       "    </tr>\n",
       "    <tr>\n",
       "      <th>1</th>\n",
       "      <td>2021T4</td>\n",
       "      <td>Andalucía</td>\n",
       "      <td>20.18</td>\n",
       "      <td>39.15</td>\n",
       "      <td>18.87</td>\n",
       "      <td>17.21</td>\n",
       "      <td>23.67</td>\n",
       "      <td>4.7583</td>\n",
       "    </tr>\n",
       "    <tr>\n",
       "      <th>2</th>\n",
       "      <td>2021T4</td>\n",
       "      <td>Aragón</td>\n",
       "      <td>9.02</td>\n",
       "      <td>19.61</td>\n",
       "      <td>8.28</td>\n",
       "      <td>8.17</td>\n",
       "      <td>9.96</td>\n",
       "      <td>4.7583</td>\n",
       "    </tr>\n",
       "    <tr>\n",
       "      <th>3</th>\n",
       "      <td>2021T4</td>\n",
       "      <td>Asturias</td>\n",
       "      <td>10.01</td>\n",
       "      <td>10.43</td>\n",
       "      <td>10.00</td>\n",
       "      <td>9.67</td>\n",
       "      <td>10.39</td>\n",
       "      <td>4.7583</td>\n",
       "    </tr>\n",
       "    <tr>\n",
       "      <th>4</th>\n",
       "      <td>2021T4</td>\n",
       "      <td>Islas_Baleares</td>\n",
       "      <td>14.90</td>\n",
       "      <td>32.04</td>\n",
       "      <td>13.95</td>\n",
       "      <td>14.19</td>\n",
       "      <td>15.68</td>\n",
       "      <td>4.7583</td>\n",
       "    </tr>\n",
       "    <tr>\n",
       "      <th>...</th>\n",
       "      <td>...</td>\n",
       "      <td>...</td>\n",
       "      <td>...</td>\n",
       "      <td>...</td>\n",
       "      <td>...</td>\n",
       "      <td>...</td>\n",
       "      <td>...</td>\n",
       "      <td>...</td>\n",
       "    </tr>\n",
       "    <tr>\n",
       "      <th>1595</th>\n",
       "      <td>2002T1</td>\n",
       "      <td>Navarra</td>\n",
       "      <td>6.03</td>\n",
       "      <td>13.51</td>\n",
       "      <td>5.03</td>\n",
       "      <td>3.67</td>\n",
       "      <td>9.68</td>\n",
       "      <td>1.5069</td>\n",
       "    </tr>\n",
       "    <tr>\n",
       "      <th>1596</th>\n",
       "      <td>2002T1</td>\n",
       "      <td>País_Vasco</td>\n",
       "      <td>9.56</td>\n",
       "      <td>18.10</td>\n",
       "      <td>8.64</td>\n",
       "      <td>6.20</td>\n",
       "      <td>14.39</td>\n",
       "      <td>1.5069</td>\n",
       "    </tr>\n",
       "    <tr>\n",
       "      <th>1597</th>\n",
       "      <td>2002T1</td>\n",
       "      <td>La_Rioja</td>\n",
       "      <td>7.05</td>\n",
       "      <td>15.05</td>\n",
       "      <td>6.04</td>\n",
       "      <td>5.75</td>\n",
       "      <td>9.41</td>\n",
       "      <td>1.5069</td>\n",
       "    </tr>\n",
       "    <tr>\n",
       "      <th>1598</th>\n",
       "      <td>2002T1</td>\n",
       "      <td>Ceuta</td>\n",
       "      <td>7.01</td>\n",
       "      <td>23.28</td>\n",
       "      <td>4.80</td>\n",
       "      <td>4.57</td>\n",
       "      <td>12.12</td>\n",
       "      <td>1.5069</td>\n",
       "    </tr>\n",
       "    <tr>\n",
       "      <th>1599</th>\n",
       "      <td>2002T1</td>\n",
       "      <td>Melilla</td>\n",
       "      <td>10.30</td>\n",
       "      <td>26.66</td>\n",
       "      <td>7.55</td>\n",
       "      <td>6.21</td>\n",
       "      <td>18.12</td>\n",
       "      <td>1.5069</td>\n",
       "    </tr>\n",
       "  </tbody>\n",
       "</table>\n",
       "<p>1600 rows × 8 columns</p>\n",
       "</div>"
      ],
      "text/plain": [
       "     Periodo       Comunidad  Total  Menores_25  Mayores_25  Parados_hombres  \\\n",
       "0     2021T4  Total_Nacional  13.33       30.70       12.15            11.79   \n",
       "1     2021T4       Andalucía  20.18       39.15       18.87            17.21   \n",
       "2     2021T4          Aragón   9.02       19.61        8.28             8.17   \n",
       "3     2021T4        Asturias  10.01       10.43       10.00             9.67   \n",
       "4     2021T4  Islas_Baleares  14.90       32.04       13.95            14.19   \n",
       "...      ...             ...    ...         ...         ...              ...   \n",
       "1595  2002T1         Navarra   6.03       13.51        5.03             3.67   \n",
       "1596  2002T1      País_Vasco   9.56       18.10        8.64             6.20   \n",
       "1597  2002T1        La_Rioja   7.05       15.05        6.04             5.75   \n",
       "1598  2002T1           Ceuta   7.01       23.28        4.80             4.57   \n",
       "1599  2002T1         Melilla  10.30       26.66        7.55             6.21   \n",
       "\n",
       "      Parados_mujeres  Var_PIB  \n",
       "0               15.04   4.7583  \n",
       "1               23.67   4.7583  \n",
       "2                9.96   4.7583  \n",
       "3               10.39   4.7583  \n",
       "4               15.68   4.7583  \n",
       "...               ...      ...  \n",
       "1595             9.68   1.5069  \n",
       "1596            14.39   1.5069  \n",
       "1597             9.41   1.5069  \n",
       "1598            12.12   1.5069  \n",
       "1599            18.12   1.5069  \n",
       "\n",
       "[1600 rows x 8 columns]"
      ]
     },
     "execution_count": 195,
     "metadata": {},
     "output_type": "execute_result"
    }
   ],
   "source": [
    "# Juntamos ambas bases de datos para crear nuestro dataset completo.\n",
    "Union_paro_pib=Tasas_paro.join(VarPIB)\n",
    "Union_paro_pib"
   ]
  },
  {
   "cell_type": "code",
   "execution_count": 196,
   "metadata": {},
   "outputs": [],
   "source": [
    "# Guardo como CSV y excel los cambios realizados:\n",
    "Union_paro_pib.to_csv('C:\\\\Users\\\\jmore\\\\THE_BRIDGE_FEB22\\\\EDA\\\\src\\\\data\\\\Paro_PIB')"
   ]
  },
  {
   "cell_type": "markdown",
   "metadata": {},
   "source": [
    "## 2. Exploración y descripción de los datos"
   ]
  },
  {
   "cell_type": "code",
   "execution_count": 197,
   "metadata": {},
   "outputs": [],
   "source": [
    "# Importamos el nuevo fichero CSV que hemos creado:\n",
    "Paro_PIB= pd.read_csv('C:\\\\Users\\\\jmore\\\\THE_BRIDGE_FEB22\\\\EDA\\\\src\\\\data\\\\Paro_PIB')"
   ]
  },
  {
   "cell_type": "code",
   "execution_count": 198,
   "metadata": {},
   "outputs": [
    {
     "data": {
      "text/plain": [
       "(1600, 9)"
      ]
     },
     "execution_count": 198,
     "metadata": {},
     "output_type": "execute_result"
    }
   ],
   "source": [
    "# Tamaño\n",
    "Paro_PIB.shape"
   ]
  },
  {
   "cell_type": "code",
   "execution_count": 199,
   "metadata": {},
   "outputs": [
    {
     "data": {
      "text/html": [
       "<div>\n",
       "<style scoped>\n",
       "    .dataframe tbody tr th:only-of-type {\n",
       "        vertical-align: middle;\n",
       "    }\n",
       "\n",
       "    .dataframe tbody tr th {\n",
       "        vertical-align: top;\n",
       "    }\n",
       "\n",
       "    .dataframe thead th {\n",
       "        text-align: right;\n",
       "    }\n",
       "</style>\n",
       "<table border=\"1\" class=\"dataframe\">\n",
       "  <thead>\n",
       "    <tr style=\"text-align: right;\">\n",
       "      <th></th>\n",
       "      <th>Unnamed: 0</th>\n",
       "      <th>Periodo</th>\n",
       "      <th>Comunidad</th>\n",
       "      <th>Total</th>\n",
       "      <th>Menores_25</th>\n",
       "      <th>Mayores_25</th>\n",
       "      <th>Parados_hombres</th>\n",
       "      <th>Parados_mujeres</th>\n",
       "      <th>Var_PIB</th>\n",
       "    </tr>\n",
       "  </thead>\n",
       "  <tbody>\n",
       "    <tr>\n",
       "      <th>0</th>\n",
       "      <td>0</td>\n",
       "      <td>2021T4</td>\n",
       "      <td>Total_Nacional</td>\n",
       "      <td>13.33</td>\n",
       "      <td>30.70</td>\n",
       "      <td>12.15</td>\n",
       "      <td>11.79</td>\n",
       "      <td>15.04</td>\n",
       "      <td>4.7583</td>\n",
       "    </tr>\n",
       "    <tr>\n",
       "      <th>1</th>\n",
       "      <td>1</td>\n",
       "      <td>2021T4</td>\n",
       "      <td>Andalucía</td>\n",
       "      <td>20.18</td>\n",
       "      <td>39.15</td>\n",
       "      <td>18.87</td>\n",
       "      <td>17.21</td>\n",
       "      <td>23.67</td>\n",
       "      <td>4.7583</td>\n",
       "    </tr>\n",
       "    <tr>\n",
       "      <th>2</th>\n",
       "      <td>2</td>\n",
       "      <td>2021T4</td>\n",
       "      <td>Aragón</td>\n",
       "      <td>9.02</td>\n",
       "      <td>19.61</td>\n",
       "      <td>8.28</td>\n",
       "      <td>8.17</td>\n",
       "      <td>9.96</td>\n",
       "      <td>4.7583</td>\n",
       "    </tr>\n",
       "    <tr>\n",
       "      <th>3</th>\n",
       "      <td>3</td>\n",
       "      <td>2021T4</td>\n",
       "      <td>Asturias</td>\n",
       "      <td>10.01</td>\n",
       "      <td>10.43</td>\n",
       "      <td>10.00</td>\n",
       "      <td>9.67</td>\n",
       "      <td>10.39</td>\n",
       "      <td>4.7583</td>\n",
       "    </tr>\n",
       "    <tr>\n",
       "      <th>4</th>\n",
       "      <td>4</td>\n",
       "      <td>2021T4</td>\n",
       "      <td>Islas_Baleares</td>\n",
       "      <td>14.90</td>\n",
       "      <td>32.04</td>\n",
       "      <td>13.95</td>\n",
       "      <td>14.19</td>\n",
       "      <td>15.68</td>\n",
       "      <td>4.7583</td>\n",
       "    </tr>\n",
       "    <tr>\n",
       "      <th>...</th>\n",
       "      <td>...</td>\n",
       "      <td>...</td>\n",
       "      <td>...</td>\n",
       "      <td>...</td>\n",
       "      <td>...</td>\n",
       "      <td>...</td>\n",
       "      <td>...</td>\n",
       "      <td>...</td>\n",
       "      <td>...</td>\n",
       "    </tr>\n",
       "    <tr>\n",
       "      <th>1595</th>\n",
       "      <td>1595</td>\n",
       "      <td>2002T1</td>\n",
       "      <td>Navarra</td>\n",
       "      <td>6.03</td>\n",
       "      <td>13.51</td>\n",
       "      <td>5.03</td>\n",
       "      <td>3.67</td>\n",
       "      <td>9.68</td>\n",
       "      <td>1.5069</td>\n",
       "    </tr>\n",
       "    <tr>\n",
       "      <th>1596</th>\n",
       "      <td>1596</td>\n",
       "      <td>2002T1</td>\n",
       "      <td>País_Vasco</td>\n",
       "      <td>9.56</td>\n",
       "      <td>18.10</td>\n",
       "      <td>8.64</td>\n",
       "      <td>6.20</td>\n",
       "      <td>14.39</td>\n",
       "      <td>1.5069</td>\n",
       "    </tr>\n",
       "    <tr>\n",
       "      <th>1597</th>\n",
       "      <td>1597</td>\n",
       "      <td>2002T1</td>\n",
       "      <td>La_Rioja</td>\n",
       "      <td>7.05</td>\n",
       "      <td>15.05</td>\n",
       "      <td>6.04</td>\n",
       "      <td>5.75</td>\n",
       "      <td>9.41</td>\n",
       "      <td>1.5069</td>\n",
       "    </tr>\n",
       "    <tr>\n",
       "      <th>1598</th>\n",
       "      <td>1598</td>\n",
       "      <td>2002T1</td>\n",
       "      <td>Ceuta</td>\n",
       "      <td>7.01</td>\n",
       "      <td>23.28</td>\n",
       "      <td>4.80</td>\n",
       "      <td>4.57</td>\n",
       "      <td>12.12</td>\n",
       "      <td>1.5069</td>\n",
       "    </tr>\n",
       "    <tr>\n",
       "      <th>1599</th>\n",
       "      <td>1599</td>\n",
       "      <td>2002T1</td>\n",
       "      <td>Melilla</td>\n",
       "      <td>10.30</td>\n",
       "      <td>26.66</td>\n",
       "      <td>7.55</td>\n",
       "      <td>6.21</td>\n",
       "      <td>18.12</td>\n",
       "      <td>1.5069</td>\n",
       "    </tr>\n",
       "  </tbody>\n",
       "</table>\n",
       "<p>1600 rows × 9 columns</p>\n",
       "</div>"
      ],
      "text/plain": [
       "      Unnamed: 0 Periodo       Comunidad  Total  Menores_25  Mayores_25  \\\n",
       "0              0  2021T4  Total_Nacional  13.33       30.70       12.15   \n",
       "1              1  2021T4       Andalucía  20.18       39.15       18.87   \n",
       "2              2  2021T4          Aragón   9.02       19.61        8.28   \n",
       "3              3  2021T4        Asturias  10.01       10.43       10.00   \n",
       "4              4  2021T4  Islas_Baleares  14.90       32.04       13.95   \n",
       "...          ...     ...             ...    ...         ...         ...   \n",
       "1595        1595  2002T1         Navarra   6.03       13.51        5.03   \n",
       "1596        1596  2002T1      País_Vasco   9.56       18.10        8.64   \n",
       "1597        1597  2002T1        La_Rioja   7.05       15.05        6.04   \n",
       "1598        1598  2002T1           Ceuta   7.01       23.28        4.80   \n",
       "1599        1599  2002T1         Melilla  10.30       26.66        7.55   \n",
       "\n",
       "      Parados_hombres  Parados_mujeres  Var_PIB  \n",
       "0               11.79            15.04   4.7583  \n",
       "1               17.21            23.67   4.7583  \n",
       "2                8.17             9.96   4.7583  \n",
       "3                9.67            10.39   4.7583  \n",
       "4               14.19            15.68   4.7583  \n",
       "...               ...              ...      ...  \n",
       "1595             3.67             9.68   1.5069  \n",
       "1596             6.20            14.39   1.5069  \n",
       "1597             5.75             9.41   1.5069  \n",
       "1598             4.57            12.12   1.5069  \n",
       "1599             6.21            18.12   1.5069  \n",
       "\n",
       "[1600 rows x 9 columns]"
      ]
     },
     "execution_count": 199,
     "metadata": {},
     "output_type": "execute_result"
    }
   ],
   "source": [
    "# Primeros y ultimos datos del dataset\n",
    "Paro_PIB"
   ]
  },
  {
   "cell_type": "code",
   "execution_count": 200,
   "metadata": {},
   "outputs": [
    {
     "name": "stdout",
     "output_type": "stream",
     "text": [
      "<class 'pandas.core.frame.DataFrame'>\n",
      "RangeIndex: 1600 entries, 0 to 1599\n",
      "Data columns (total 9 columns):\n",
      " #   Column           Non-Null Count  Dtype  \n",
      "---  ------           --------------  -----  \n",
      " 0   Unnamed: 0       1600 non-null   int64  \n",
      " 1   Periodo          1600 non-null   object \n",
      " 2   Comunidad        1600 non-null   object \n",
      " 3   Total            1600 non-null   float64\n",
      " 4   Menores_25       1600 non-null   float64\n",
      " 5   Mayores_25       1600 non-null   float64\n",
      " 6   Parados_hombres  1600 non-null   float64\n",
      " 7   Parados_mujeres  1600 non-null   float64\n",
      " 8   Var_PIB          1600 non-null   float64\n",
      "dtypes: float64(6), int64(1), object(2)\n",
      "memory usage: 112.6+ KB\n"
     ]
    }
   ],
   "source": [
    "# Información sobre las columnas\n",
    "Paro_PIB.info()"
   ]
  },
  {
   "cell_type": "markdown",
   "metadata": {},
   "source": [
    "## 3. Analisis de los datos"
   ]
  },
  {
   "cell_type": "code",
   "execution_count": 201,
   "metadata": {},
   "outputs": [
    {
     "data": {
      "text/html": [
       "<div>\n",
       "<style scoped>\n",
       "    .dataframe tbody tr th:only-of-type {\n",
       "        vertical-align: middle;\n",
       "    }\n",
       "\n",
       "    .dataframe tbody tr th {\n",
       "        vertical-align: top;\n",
       "    }\n",
       "\n",
       "    .dataframe thead th {\n",
       "        text-align: right;\n",
       "    }\n",
       "</style>\n",
       "<table border=\"1\" class=\"dataframe\">\n",
       "  <thead>\n",
       "    <tr style=\"text-align: right;\">\n",
       "      <th></th>\n",
       "      <th>Total</th>\n",
       "      <th>Menores_25</th>\n",
       "      <th>Mayores_25</th>\n",
       "      <th>Parados_hombres</th>\n",
       "      <th>Parados_mujeres</th>\n",
       "      <th>Var_PIB</th>\n",
       "    </tr>\n",
       "  </thead>\n",
       "  <tbody>\n",
       "    <tr>\n",
       "      <th>count</th>\n",
       "      <td>1600.000000</td>\n",
       "      <td>1600.000000</td>\n",
       "      <td>1600.000000</td>\n",
       "      <td>1600.000000</td>\n",
       "      <td>1600.000000</td>\n",
       "      <td>1600.000000</td>\n",
       "    </tr>\n",
       "    <tr>\n",
       "      <th>mean</th>\n",
       "      <td>15.977881</td>\n",
       "      <td>35.425950</td>\n",
       "      <td>14.247613</td>\n",
       "      <td>14.149988</td>\n",
       "      <td>18.523812</td>\n",
       "      <td>0.767375</td>\n",
       "    </tr>\n",
       "    <tr>\n",
       "      <th>std</th>\n",
       "      <td>7.302489</td>\n",
       "      <td>14.992221</td>\n",
       "      <td>6.779644</td>\n",
       "      <td>7.266480</td>\n",
       "      <td>8.017662</td>\n",
       "      <td>3.069035</td>\n",
       "    </tr>\n",
       "    <tr>\n",
       "      <th>min</th>\n",
       "      <td>0.410000</td>\n",
       "      <td>0.000000</td>\n",
       "      <td>0.460000</td>\n",
       "      <td>0.000000</td>\n",
       "      <td>1.210000</td>\n",
       "      <td>-17.120300</td>\n",
       "    </tr>\n",
       "    <tr>\n",
       "      <th>25%</th>\n",
       "      <td>10.260000</td>\n",
       "      <td>22.755000</td>\n",
       "      <td>8.947500</td>\n",
       "      <td>8.257500</td>\n",
       "      <td>12.585000</td>\n",
       "      <td>-0.093950</td>\n",
       "    </tr>\n",
       "    <tr>\n",
       "      <th>50%</th>\n",
       "      <td>14.635000</td>\n",
       "      <td>34.220000</td>\n",
       "      <td>13.200000</td>\n",
       "      <td>12.870000</td>\n",
       "      <td>16.670000</td>\n",
       "      <td>0.867850</td>\n",
       "    </tr>\n",
       "    <tr>\n",
       "      <th>75%</th>\n",
       "      <td>20.860000</td>\n",
       "      <td>46.412500</td>\n",
       "      <td>18.682500</td>\n",
       "      <td>19.172500</td>\n",
       "      <td>23.640000</td>\n",
       "      <td>1.601800</td>\n",
       "    </tr>\n",
       "    <tr>\n",
       "      <th>max</th>\n",
       "      <td>39.190000</td>\n",
       "      <td>90.350000</td>\n",
       "      <td>37.210000</td>\n",
       "      <td>39.890000</td>\n",
       "      <td>55.280000</td>\n",
       "      <td>17.618000</td>\n",
       "    </tr>\n",
       "  </tbody>\n",
       "</table>\n",
       "</div>"
      ],
      "text/plain": [
       "             Total   Menores_25   Mayores_25  Parados_hombres  \\\n",
       "count  1600.000000  1600.000000  1600.000000      1600.000000   \n",
       "mean     15.977881    35.425950    14.247613        14.149988   \n",
       "std       7.302489    14.992221     6.779644         7.266480   \n",
       "min       0.410000     0.000000     0.460000         0.000000   \n",
       "25%      10.260000    22.755000     8.947500         8.257500   \n",
       "50%      14.635000    34.220000    13.200000        12.870000   \n",
       "75%      20.860000    46.412500    18.682500        19.172500   \n",
       "max      39.190000    90.350000    37.210000        39.890000   \n",
       "\n",
       "       Parados_mujeres      Var_PIB  \n",
       "count      1600.000000  1600.000000  \n",
       "mean         18.523812     0.767375  \n",
       "std           8.017662     3.069035  \n",
       "min           1.210000   -17.120300  \n",
       "25%          12.585000    -0.093950  \n",
       "50%          16.670000     0.867850  \n",
       "75%          23.640000     1.601800  \n",
       "max          55.280000    17.618000  "
      ]
     },
     "execution_count": 201,
     "metadata": {},
     "output_type": "execute_result"
    }
   ],
   "source": [
    "# Descripción en bruto del dataset, por columnas:\n",
    "Paro_PIB.describe(include='float64')"
   ]
  },
  {
   "cell_type": "code",
   "execution_count": 202,
   "metadata": {},
   "outputs": [],
   "source": [
    "Total=np.array(Paro_PIB['Total'].values)\n",
    "Menores_25=np.array(Paro_PIB['Menores_25'].values)\n",
    "Mayores_25=np.array(Paro_PIB['Mayores_25'].values)\n",
    "Parados_hombres=np.array(Paro_PIB['Parados_hombres'].values)\n",
    "Parados_mujeres=np.array(Paro_PIB['Parados_mujeres'].values)\n",
    "Var_PIB=np.array(Paro_PIB['Var_PIB'].values)"
   ]
  },
  {
   "cell_type": "code",
   "execution_count": 203,
   "metadata": {},
   "outputs": [
    {
     "name": "stdout",
     "output_type": "stream",
     "text": [
      "[13.33 20.18  9.02 ...  7.05  7.01 10.3 ]\n",
      "[30.7  39.15 19.61 ... 15.05 23.28 26.66]\n",
      "[12.15 18.87  8.28 ...  6.04  4.8   7.55]\n",
      "[11.79 17.21  8.17 ...  5.75  4.57  6.21]\n",
      "[15.04 23.67  9.96 ...  9.41 12.12 18.12]\n",
      "[4.7583 4.7583 4.7583 ... 1.5069 1.5069 1.5069]\n"
     ]
    }
   ],
   "source": [
    "print(Total)\n",
    "print(Menores_25)\n",
    "print(Mayores_25)\n",
    "print(Parados_hombres)\n",
    "print(Parados_mujeres)\n",
    "print(Var_PIB)"
   ]
  },
  {
   "cell_type": "code",
   "execution_count": 204,
   "metadata": {},
   "outputs": [],
   "source": [
    "Total_media=Total.mean()\n",
    "Menores_25_media=Menores_25.mean()\n",
    "Mayores_25_media=Mayores_25.mean()\n",
    "Parados_hombres_media=Parados_hombres.mean()\n",
    "Parados_mujeres_media=Parados_mujeres.mean()\n",
    "Var_PIB_media=Var_PIB.mean()"
   ]
  },
  {
   "cell_type": "code",
   "execution_count": 205,
   "metadata": {},
   "outputs": [],
   "source": [
    "Total_varianza=Total.var()\n",
    "Menores_25_varianza=Menores_25.var()\n",
    "Mayores_25_varianza=Mayores_25.var()\n",
    "Parados_hombres_varianza=Parados_hombres.var()\n",
    "Parados_mujeres_varianza=Parados_mujeres.var()\n",
    "Var_PIB_varianza=Var_PIB.var()"
   ]
  },
  {
   "cell_type": "code",
   "execution_count": 206,
   "metadata": {},
   "outputs": [
    {
     "data": {
      "text/plain": [
       "-3.0748459710756713"
      ]
     },
     "execution_count": 206,
     "metadata": {},
     "output_type": "execute_result"
    }
   ],
   "source": [
    "# La covarianza entre el paro total y la variación del PIB es negativa, lo que quiere decir que estan relacionadas de manera inversa, cuando una sube la otra baja.\n",
    "cov_paro_pib=np.cov(Var_PIB,Total)[0][1]\n",
    "cov_paro_pib"
   ]
  },
  {
   "cell_type": "code",
   "execution_count": 207,
   "metadata": {},
   "outputs": [
    {
     "data": {
      "image/png": "[encoded data removed]",
      "text/plain": [
       "<Figure size 432x288 with 1 Axes>"
      ]
     },
     "metadata": {
      "needs_background": "light"
     },
     "output_type": "display_data"
    }
   ],
   "source": [
    "plt.plot(Total)\n",
    "plt.ylabel('Tasa de paro (%)')\n",
    "plt.xlabel('Paso del tiempo:'\n",
    "            '||0=2021||1400=2002|| ');"
   ]
  },
  {
   "cell_type": "code",
   "execution_count": 208,
   "metadata": {},
   "outputs": [
    {
     "data": {
      "image/png": "[encoded data removed]",
      "text/plain": [
       "<Figure size 432x288 with 1 Axes>"
      ]
     },
     "metadata": {
      "needs_background": "light"
     },
     "output_type": "display_data"
    }
   ],
   "source": [
    "plt.plot(Var_PIB) \n",
    "plt.ylabel('Tasa de variación del PIB (%)')\n",
    "plt.xlabel('Paso del tiempo:'\n",
    "            '||0=2021||1400=2002|| ');"
   ]
  },
  {
   "cell_type": "markdown",
   "metadata": {},
   "source": [
    "Aquí podemos observar que los datos del principio del gráfico, que son los referidos a los años 2020 y 2021 son bastante atipicos, probablemente debido al covid, por lo que vamos a quitar los datos de los años del covid, el año 2020 y 2021"
   ]
  },
  {
   "cell_type": "code",
   "execution_count": 209,
   "metadata": {},
   "outputs": [
    {
     "data": {
      "text/plain": [
       "0      2021T4\n",
       "1      2021T4\n",
       "2      2021T4\n",
       "3      2021T4\n",
       "4      2021T4\n",
       "        ...  \n",
       "156    2020T1\n",
       "157    2020T1\n",
       "158    2020T1\n",
       "159    2020T1\n",
       "160    2019T4\n",
       "Name: Periodo, Length: 161, dtype: object"
      ]
     },
     "execution_count": 209,
     "metadata": {},
     "output_type": "execute_result"
    }
   ],
   "source": [
    "Paro_PIB['Periodo'][0:161] # Las filas 0 a 159 son las que tenems que borrar ya que son las referidas a 2020 y 2021."
   ]
  },
  {
   "cell_type": "code",
   "execution_count": 210,
   "metadata": {},
   "outputs": [
    {
     "data": {
      "text/plain": [
       "array([  0,   1,   2,   3,   4,   5,   6,   7,   8,   9,  10,  11,  12,\n",
       "        13,  14,  15,  16,  17,  18,  19,  20,  21,  22,  23,  24,  25,\n",
       "        26,  27,  28,  29,  30,  31,  32,  33,  34,  35,  36,  37,  38,\n",
       "        39,  40,  41,  42,  43,  44,  45,  46,  47,  48,  49,  50,  51,\n",
       "        52,  53,  54,  55,  56,  57,  58,  59,  60,  61,  62,  63,  64,\n",
       "        65,  66,  67,  68,  69,  70,  71,  72,  73,  74,  75,  76,  77,\n",
       "        78,  79,  80,  81,  82,  83,  84,  85,  86,  87,  88,  89,  90,\n",
       "        91,  92,  93,  94,  95,  96,  97,  98,  99, 100, 101, 102, 103,\n",
       "       104, 105, 106, 107, 108, 109, 110, 111, 112, 113, 114, 115, 116,\n",
       "       117, 118, 119, 120, 121, 122, 123, 124, 125, 126, 127, 128, 129,\n",
       "       130, 131, 132, 133, 134, 135, 136, 137, 138, 139, 140, 141, 142,\n",
       "       143, 144, 145, 146, 147, 148, 149, 150, 151, 152, 153, 154, 155,\n",
       "       156, 157, 158, 159])"
      ]
     },
     "execution_count": 210,
     "metadata": {},
     "output_type": "execute_result"
    }
   ],
   "source": [
    "# Preparamos un array con las filas que vamos a eliminar.\n",
    "x=np.array(range(0,160)) \n",
    "x"
   ]
  },
  {
   "cell_type": "code",
   "execution_count": 211,
   "metadata": {},
   "outputs": [],
   "source": [
    "Paro_PIB_ajustado=Paro_PIB.drop([0,   1,   2,   3,   4,   5,   6,   7,   8,   9,  10,  11,  12,\n",
    "        13,  14,  15,  16,  17,  18,  19,  20,  21,  22,  23,  24,  25,\n",
    "        26,  27,  28,  29,  30,  31,  32,  33,  34,  35,  36,  37,  38,\n",
    "        39,  40,  41,  42,  43,  44,  45,  46,  47,  48,  49,  50,  51,\n",
    "        52,  53,  54,  55,  56,  57,  58,  59,  60,  61,  62,  63,  64,\n",
    "        65,  66,  67,  68,  69,  70,  71,  72,  73,  74,  75,  76,  77,\n",
    "        78,  79,  80,  81,  82,  83,  84,  85,  86,  87,  88,  89,  90,\n",
    "        91,  92,  93,  94,  95,  96,  97,  98,  99, 100, 101, 102, 103,\n",
    "       104, 105, 106, 107, 108, 109, 110, 111, 112, 113, 114, 115, 116,\n",
    "       117, 118, 119, 120, 121, 122, 123, 124, 125, 126, 127, 128, 129,\n",
    "       130, 131, 132, 133, 134, 135, 136, 137, 138, 139, 140, 141, 142,\n",
    "       143, 144, 145, 146, 147, 148, 149, 150, 151, 152, 153, 154, 155,\n",
    "       156, 157, 158, 159],axis=0)"
   ]
  },
  {
   "cell_type": "code",
   "execution_count": 212,
   "metadata": {},
   "outputs": [
    {
     "data": {
      "text/plain": [
       "160     2019T4\n",
       "161     2019T4\n",
       "162     2019T4\n",
       "163     2019T4\n",
       "164     2019T4\n",
       "         ...  \n",
       "1595    2002T1\n",
       "1596    2002T1\n",
       "1597    2002T1\n",
       "1598    2002T1\n",
       "1599    2002T1\n",
       "Name: Periodo, Length: 1440, dtype: object"
      ]
     },
     "execution_count": 212,
     "metadata": {},
     "output_type": "execute_result"
    }
   ],
   "source": [
    "#Ahora ya tenemos los datos desde 2019 hasta 2002 que son los que nos interesa analizar.\n",
    "Paro_PIB_ajustado['Periodo']"
   ]
  },
  {
   "cell_type": "code",
   "execution_count": 213,
   "metadata": {},
   "outputs": [
    {
     "data": {
      "text/html": [
       "<div>\n",
       "<style scoped>\n",
       "    .dataframe tbody tr th:only-of-type {\n",
       "        vertical-align: middle;\n",
       "    }\n",
       "\n",
       "    .dataframe tbody tr th {\n",
       "        vertical-align: top;\n",
       "    }\n",
       "\n",
       "    .dataframe thead th {\n",
       "        text-align: right;\n",
       "    }\n",
       "</style>\n",
       "<table border=\"1\" class=\"dataframe\">\n",
       "  <thead>\n",
       "    <tr style=\"text-align: right;\">\n",
       "      <th></th>\n",
       "      <th>Unnamed: 0</th>\n",
       "      <th>Periodo</th>\n",
       "      <th>Comunidad</th>\n",
       "      <th>Total</th>\n",
       "      <th>Menores_25</th>\n",
       "      <th>Mayores_25</th>\n",
       "      <th>Parados_hombres</th>\n",
       "      <th>Parados_mujeres</th>\n",
       "      <th>Var_PIB</th>\n",
       "    </tr>\n",
       "  </thead>\n",
       "  <tbody>\n",
       "    <tr>\n",
       "      <th>160</th>\n",
       "      <td>160</td>\n",
       "      <td>2019T4</td>\n",
       "      <td>Total_Nacional</td>\n",
       "      <td>13.78</td>\n",
       "      <td>30.51</td>\n",
       "      <td>12.61</td>\n",
       "      <td>12.23</td>\n",
       "      <td>15.55</td>\n",
       "      <td>1.0641</td>\n",
       "    </tr>\n",
       "    <tr>\n",
       "      <th>161</th>\n",
       "      <td>161</td>\n",
       "      <td>2019T4</td>\n",
       "      <td>Andalucía</td>\n",
       "      <td>20.80</td>\n",
       "      <td>41.00</td>\n",
       "      <td>19.31</td>\n",
       "      <td>17.82</td>\n",
       "      <td>24.40</td>\n",
       "      <td>1.0641</td>\n",
       "    </tr>\n",
       "    <tr>\n",
       "      <th>162</th>\n",
       "      <td>162</td>\n",
       "      <td>2019T4</td>\n",
       "      <td>Aragón</td>\n",
       "      <td>9.93</td>\n",
       "      <td>22.57</td>\n",
       "      <td>9.05</td>\n",
       "      <td>8.70</td>\n",
       "      <td>11.38</td>\n",
       "      <td>1.0641</td>\n",
       "    </tr>\n",
       "    <tr>\n",
       "      <th>163</th>\n",
       "      <td>163</td>\n",
       "      <td>2019T4</td>\n",
       "      <td>Asturias</td>\n",
       "      <td>13.14</td>\n",
       "      <td>30.55</td>\n",
       "      <td>12.39</td>\n",
       "      <td>12.71</td>\n",
       "      <td>13.59</td>\n",
       "      <td>1.0641</td>\n",
       "    </tr>\n",
       "    <tr>\n",
       "      <th>164</th>\n",
       "      <td>164</td>\n",
       "      <td>2019T4</td>\n",
       "      <td>Islas_Baleares</td>\n",
       "      <td>9.91</td>\n",
       "      <td>25.75</td>\n",
       "      <td>8.76</td>\n",
       "      <td>9.43</td>\n",
       "      <td>10.47</td>\n",
       "      <td>1.0641</td>\n",
       "    </tr>\n",
       "  </tbody>\n",
       "</table>\n",
       "</div>"
      ],
      "text/plain": [
       "     Unnamed: 0 Periodo       Comunidad  Total  Menores_25  Mayores_25  \\\n",
       "160         160  2019T4  Total_Nacional  13.78       30.51       12.61   \n",
       "161         161  2019T4       Andalucía  20.80       41.00       19.31   \n",
       "162         162  2019T4          Aragón   9.93       22.57        9.05   \n",
       "163         163  2019T4        Asturias  13.14       30.55       12.39   \n",
       "164         164  2019T4  Islas_Baleares   9.91       25.75        8.76   \n",
       "\n",
       "     Parados_hombres  Parados_mujeres  Var_PIB  \n",
       "160            12.23            15.55   1.0641  \n",
       "161            17.82            24.40   1.0641  \n",
       "162             8.70            11.38   1.0641  \n",
       "163            12.71            13.59   1.0641  \n",
       "164             9.43            10.47   1.0641  "
      ]
     },
     "execution_count": 213,
     "metadata": {},
     "output_type": "execute_result"
    }
   ],
   "source": [
    "Paro_PIB_ajustado.head()"
   ]
  },
  {
   "cell_type": "code",
   "execution_count": 214,
   "metadata": {},
   "outputs": [
    {
     "data": {
      "text/html": [
       "<div>\n",
       "<style scoped>\n",
       "    .dataframe tbody tr th:only-of-type {\n",
       "        vertical-align: middle;\n",
       "    }\n",
       "\n",
       "    .dataframe tbody tr th {\n",
       "        vertical-align: top;\n",
       "    }\n",
       "\n",
       "    .dataframe thead th {\n",
       "        text-align: right;\n",
       "    }\n",
       "</style>\n",
       "<table border=\"1\" class=\"dataframe\">\n",
       "  <thead>\n",
       "    <tr style=\"text-align: right;\">\n",
       "      <th></th>\n",
       "      <th>Periodo</th>\n",
       "      <th>Comunidad</th>\n",
       "      <th>Total</th>\n",
       "      <th>Menores_25</th>\n",
       "      <th>Mayores_25</th>\n",
       "      <th>Parados_hombres</th>\n",
       "      <th>Parados_mujeres</th>\n",
       "      <th>Var_PIB</th>\n",
       "    </tr>\n",
       "  </thead>\n",
       "  <tbody>\n",
       "    <tr>\n",
       "      <th>160</th>\n",
       "      <td>2019T4</td>\n",
       "      <td>Total_Nacional</td>\n",
       "      <td>13.78</td>\n",
       "      <td>30.51</td>\n",
       "      <td>12.61</td>\n",
       "      <td>12.23</td>\n",
       "      <td>15.55</td>\n",
       "      <td>1.0641</td>\n",
       "    </tr>\n",
       "    <tr>\n",
       "      <th>161</th>\n",
       "      <td>2019T4</td>\n",
       "      <td>Andalucía</td>\n",
       "      <td>20.80</td>\n",
       "      <td>41.00</td>\n",
       "      <td>19.31</td>\n",
       "      <td>17.82</td>\n",
       "      <td>24.40</td>\n",
       "      <td>1.0641</td>\n",
       "    </tr>\n",
       "    <tr>\n",
       "      <th>162</th>\n",
       "      <td>2019T4</td>\n",
       "      <td>Aragón</td>\n",
       "      <td>9.93</td>\n",
       "      <td>22.57</td>\n",
       "      <td>9.05</td>\n",
       "      <td>8.70</td>\n",
       "      <td>11.38</td>\n",
       "      <td>1.0641</td>\n",
       "    </tr>\n",
       "    <tr>\n",
       "      <th>163</th>\n",
       "      <td>2019T4</td>\n",
       "      <td>Asturias</td>\n",
       "      <td>13.14</td>\n",
       "      <td>30.55</td>\n",
       "      <td>12.39</td>\n",
       "      <td>12.71</td>\n",
       "      <td>13.59</td>\n",
       "      <td>1.0641</td>\n",
       "    </tr>\n",
       "    <tr>\n",
       "      <th>164</th>\n",
       "      <td>2019T4</td>\n",
       "      <td>Islas_Baleares</td>\n",
       "      <td>9.91</td>\n",
       "      <td>25.75</td>\n",
       "      <td>8.76</td>\n",
       "      <td>9.43</td>\n",
       "      <td>10.47</td>\n",
       "      <td>1.0641</td>\n",
       "    </tr>\n",
       "  </tbody>\n",
       "</table>\n",
       "</div>"
      ],
      "text/plain": [
       "    Periodo       Comunidad  Total  Menores_25  Mayores_25  Parados_hombres  \\\n",
       "160  2019T4  Total_Nacional  13.78       30.51       12.61            12.23   \n",
       "161  2019T4       Andalucía  20.80       41.00       19.31            17.82   \n",
       "162  2019T4          Aragón   9.93       22.57        9.05             8.70   \n",
       "163  2019T4        Asturias  13.14       30.55       12.39            12.71   \n",
       "164  2019T4  Islas_Baleares   9.91       25.75        8.76             9.43   \n",
       "\n",
       "     Parados_mujeres  Var_PIB  \n",
       "160            15.55   1.0641  \n",
       "161            24.40   1.0641  \n",
       "162            11.38   1.0641  \n",
       "163            13.59   1.0641  \n",
       "164            10.47   1.0641  "
      ]
     },
     "execution_count": 214,
     "metadata": {},
     "output_type": "execute_result"
    }
   ],
   "source": [
    "# Quitamos la columna Unnamed:0 ya que no nos sirve:\n",
    "Paro_PIB_ajustado=Paro_PIB_ajustado.drop('Unnamed: 0', axis=1)\n",
    "Paro_PIB_ajustado.head()\n"
   ]
  },
  {
   "cell_type": "markdown",
   "metadata": {},
   "source": []
  },
  {
   "cell_type": "code",
   "execution_count": 215,
   "metadata": {},
   "outputs": [
    {
     "data": {
      "text/plain": [
       "160     2019\n",
       "161     2019\n",
       "162     2019\n",
       "163     2019\n",
       "164     2019\n",
       "        ... \n",
       "1595    2002\n",
       "1596    2002\n",
       "1597    2002\n",
       "1598    2002\n",
       "1599    2002\n",
       "Name: 0, Length: 1440, dtype: object"
      ]
     },
     "execution_count": 215,
     "metadata": {},
     "output_type": "execute_result"
    }
   ],
   "source": [
    "# Se paramos el trimestre del año:\n",
    "Lista_años=Paro_PIB_ajustado['Periodo'].str.split('T',expand=True)\n",
    "Lista_años[0]"
   ]
  },
  {
   "cell_type": "code",
   "execution_count": 216,
   "metadata": {},
   "outputs": [
    {
     "data": {
      "text/html": [
       "<div>\n",
       "<style scoped>\n",
       "    .dataframe tbody tr th:only-of-type {\n",
       "        vertical-align: middle;\n",
       "    }\n",
       "\n",
       "    .dataframe tbody tr th {\n",
       "        vertical-align: top;\n",
       "    }\n",
       "\n",
       "    .dataframe thead th {\n",
       "        text-align: right;\n",
       "    }\n",
       "</style>\n",
       "<table border=\"1\" class=\"dataframe\">\n",
       "  <thead>\n",
       "    <tr style=\"text-align: right;\">\n",
       "      <th></th>\n",
       "      <th>Periodo</th>\n",
       "      <th>Comunidad</th>\n",
       "      <th>Total</th>\n",
       "      <th>Menores_25</th>\n",
       "      <th>Mayores_25</th>\n",
       "      <th>Parados_hombres</th>\n",
       "      <th>Parados_mujeres</th>\n",
       "      <th>Var_PIB</th>\n",
       "      <th>Año</th>\n",
       "    </tr>\n",
       "  </thead>\n",
       "  <tbody>\n",
       "    <tr>\n",
       "      <th>160</th>\n",
       "      <td>2019T4</td>\n",
       "      <td>Total_Nacional</td>\n",
       "      <td>13.78</td>\n",
       "      <td>30.51</td>\n",
       "      <td>12.61</td>\n",
       "      <td>12.23</td>\n",
       "      <td>15.55</td>\n",
       "      <td>1.0641</td>\n",
       "      <td>2019</td>\n",
       "    </tr>\n",
       "    <tr>\n",
       "      <th>161</th>\n",
       "      <td>2019T4</td>\n",
       "      <td>Andalucía</td>\n",
       "      <td>20.80</td>\n",
       "      <td>41.00</td>\n",
       "      <td>19.31</td>\n",
       "      <td>17.82</td>\n",
       "      <td>24.40</td>\n",
       "      <td>1.0641</td>\n",
       "      <td>2019</td>\n",
       "    </tr>\n",
       "    <tr>\n",
       "      <th>162</th>\n",
       "      <td>2019T4</td>\n",
       "      <td>Aragón</td>\n",
       "      <td>9.93</td>\n",
       "      <td>22.57</td>\n",
       "      <td>9.05</td>\n",
       "      <td>8.70</td>\n",
       "      <td>11.38</td>\n",
       "      <td>1.0641</td>\n",
       "      <td>2019</td>\n",
       "    </tr>\n",
       "    <tr>\n",
       "      <th>163</th>\n",
       "      <td>2019T4</td>\n",
       "      <td>Asturias</td>\n",
       "      <td>13.14</td>\n",
       "      <td>30.55</td>\n",
       "      <td>12.39</td>\n",
       "      <td>12.71</td>\n",
       "      <td>13.59</td>\n",
       "      <td>1.0641</td>\n",
       "      <td>2019</td>\n",
       "    </tr>\n",
       "    <tr>\n",
       "      <th>164</th>\n",
       "      <td>2019T4</td>\n",
       "      <td>Islas_Baleares</td>\n",
       "      <td>9.91</td>\n",
       "      <td>25.75</td>\n",
       "      <td>8.76</td>\n",
       "      <td>9.43</td>\n",
       "      <td>10.47</td>\n",
       "      <td>1.0641</td>\n",
       "      <td>2019</td>\n",
       "    </tr>\n",
       "    <tr>\n",
       "      <th>...</th>\n",
       "      <td>...</td>\n",
       "      <td>...</td>\n",
       "      <td>...</td>\n",
       "      <td>...</td>\n",
       "      <td>...</td>\n",
       "      <td>...</td>\n",
       "      <td>...</td>\n",
       "      <td>...</td>\n",
       "      <td>...</td>\n",
       "    </tr>\n",
       "    <tr>\n",
       "      <th>1595</th>\n",
       "      <td>2002T1</td>\n",
       "      <td>Navarra</td>\n",
       "      <td>6.03</td>\n",
       "      <td>13.51</td>\n",
       "      <td>5.03</td>\n",
       "      <td>3.67</td>\n",
       "      <td>9.68</td>\n",
       "      <td>1.5069</td>\n",
       "      <td>2002</td>\n",
       "    </tr>\n",
       "    <tr>\n",
       "      <th>1596</th>\n",
       "      <td>2002T1</td>\n",
       "      <td>País_Vasco</td>\n",
       "      <td>9.56</td>\n",
       "      <td>18.10</td>\n",
       "      <td>8.64</td>\n",
       "      <td>6.20</td>\n",
       "      <td>14.39</td>\n",
       "      <td>1.5069</td>\n",
       "      <td>2002</td>\n",
       "    </tr>\n",
       "    <tr>\n",
       "      <th>1597</th>\n",
       "      <td>2002T1</td>\n",
       "      <td>La_Rioja</td>\n",
       "      <td>7.05</td>\n",
       "      <td>15.05</td>\n",
       "      <td>6.04</td>\n",
       "      <td>5.75</td>\n",
       "      <td>9.41</td>\n",
       "      <td>1.5069</td>\n",
       "      <td>2002</td>\n",
       "    </tr>\n",
       "    <tr>\n",
       "      <th>1598</th>\n",
       "      <td>2002T1</td>\n",
       "      <td>Ceuta</td>\n",
       "      <td>7.01</td>\n",
       "      <td>23.28</td>\n",
       "      <td>4.80</td>\n",
       "      <td>4.57</td>\n",
       "      <td>12.12</td>\n",
       "      <td>1.5069</td>\n",
       "      <td>2002</td>\n",
       "    </tr>\n",
       "    <tr>\n",
       "      <th>1599</th>\n",
       "      <td>2002T1</td>\n",
       "      <td>Melilla</td>\n",
       "      <td>10.30</td>\n",
       "      <td>26.66</td>\n",
       "      <td>7.55</td>\n",
       "      <td>6.21</td>\n",
       "      <td>18.12</td>\n",
       "      <td>1.5069</td>\n",
       "      <td>2002</td>\n",
       "    </tr>\n",
       "  </tbody>\n",
       "</table>\n",
       "<p>1440 rows × 9 columns</p>\n",
       "</div>"
      ],
      "text/plain": [
       "     Periodo       Comunidad  Total  Menores_25  Mayores_25  Parados_hombres  \\\n",
       "160   2019T4  Total_Nacional  13.78       30.51       12.61            12.23   \n",
       "161   2019T4       Andalucía  20.80       41.00       19.31            17.82   \n",
       "162   2019T4          Aragón   9.93       22.57        9.05             8.70   \n",
       "163   2019T4        Asturias  13.14       30.55       12.39            12.71   \n",
       "164   2019T4  Islas_Baleares   9.91       25.75        8.76             9.43   \n",
       "...      ...             ...    ...         ...         ...              ...   \n",
       "1595  2002T1         Navarra   6.03       13.51        5.03             3.67   \n",
       "1596  2002T1      País_Vasco   9.56       18.10        8.64             6.20   \n",
       "1597  2002T1        La_Rioja   7.05       15.05        6.04             5.75   \n",
       "1598  2002T1           Ceuta   7.01       23.28        4.80             4.57   \n",
       "1599  2002T1         Melilla  10.30       26.66        7.55             6.21   \n",
       "\n",
       "      Parados_mujeres  Var_PIB   Año  \n",
       "160             15.55   1.0641  2019  \n",
       "161             24.40   1.0641  2019  \n",
       "162             11.38   1.0641  2019  \n",
       "163             13.59   1.0641  2019  \n",
       "164             10.47   1.0641  2019  \n",
       "...               ...      ...   ...  \n",
       "1595             9.68   1.5069  2002  \n",
       "1596            14.39   1.5069  2002  \n",
       "1597             9.41   1.5069  2002  \n",
       "1598            12.12   1.5069  2002  \n",
       "1599            18.12   1.5069  2002  \n",
       "\n",
       "[1440 rows x 9 columns]"
      ]
     },
     "execution_count": 216,
     "metadata": {},
     "output_type": "execute_result"
    }
   ],
   "source": [
    "# Añadimos la columna años\n",
    "Paro_PIB_ajustado['Año']=Lista_años[0]\n",
    "Paro_PIB_ajustado"
   ]
  },
  {
   "cell_type": "code",
   "execution_count": 217,
   "metadata": {},
   "outputs": [
    {
     "data": {
      "text/html": [
       "<div>\n",
       "<style scoped>\n",
       "    .dataframe tbody tr th:only-of-type {\n",
       "        vertical-align: middle;\n",
       "    }\n",
       "\n",
       "    .dataframe tbody tr th {\n",
       "        vertical-align: top;\n",
       "    }\n",
       "\n",
       "    .dataframe thead th {\n",
       "        text-align: right;\n",
       "    }\n",
       "</style>\n",
       "<table border=\"1\" class=\"dataframe\">\n",
       "  <thead>\n",
       "    <tr style=\"text-align: right;\">\n",
       "      <th></th>\n",
       "      <th>Periodo</th>\n",
       "      <th>Comunidad</th>\n",
       "      <th>Total</th>\n",
       "      <th>Menores_25</th>\n",
       "      <th>Mayores_25</th>\n",
       "      <th>Parados_hombres</th>\n",
       "      <th>Parados_mujeres</th>\n",
       "      <th>Var_PIB</th>\n",
       "      <th>Año</th>\n",
       "      <th>Trimestre</th>\n",
       "    </tr>\n",
       "  </thead>\n",
       "  <tbody>\n",
       "    <tr>\n",
       "      <th>160</th>\n",
       "      <td>2019T4</td>\n",
       "      <td>Total_Nacional</td>\n",
       "      <td>13.78</td>\n",
       "      <td>30.51</td>\n",
       "      <td>12.61</td>\n",
       "      <td>12.23</td>\n",
       "      <td>15.55</td>\n",
       "      <td>1.0641</td>\n",
       "      <td>2019</td>\n",
       "      <td>4</td>\n",
       "    </tr>\n",
       "    <tr>\n",
       "      <th>161</th>\n",
       "      <td>2019T4</td>\n",
       "      <td>Andalucía</td>\n",
       "      <td>20.80</td>\n",
       "      <td>41.00</td>\n",
       "      <td>19.31</td>\n",
       "      <td>17.82</td>\n",
       "      <td>24.40</td>\n",
       "      <td>1.0641</td>\n",
       "      <td>2019</td>\n",
       "      <td>4</td>\n",
       "    </tr>\n",
       "    <tr>\n",
       "      <th>162</th>\n",
       "      <td>2019T4</td>\n",
       "      <td>Aragón</td>\n",
       "      <td>9.93</td>\n",
       "      <td>22.57</td>\n",
       "      <td>9.05</td>\n",
       "      <td>8.70</td>\n",
       "      <td>11.38</td>\n",
       "      <td>1.0641</td>\n",
       "      <td>2019</td>\n",
       "      <td>4</td>\n",
       "    </tr>\n",
       "    <tr>\n",
       "      <th>163</th>\n",
       "      <td>2019T4</td>\n",
       "      <td>Asturias</td>\n",
       "      <td>13.14</td>\n",
       "      <td>30.55</td>\n",
       "      <td>12.39</td>\n",
       "      <td>12.71</td>\n",
       "      <td>13.59</td>\n",
       "      <td>1.0641</td>\n",
       "      <td>2019</td>\n",
       "      <td>4</td>\n",
       "    </tr>\n",
       "    <tr>\n",
       "      <th>164</th>\n",
       "      <td>2019T4</td>\n",
       "      <td>Islas_Baleares</td>\n",
       "      <td>9.91</td>\n",
       "      <td>25.75</td>\n",
       "      <td>8.76</td>\n",
       "      <td>9.43</td>\n",
       "      <td>10.47</td>\n",
       "      <td>1.0641</td>\n",
       "      <td>2019</td>\n",
       "      <td>4</td>\n",
       "    </tr>\n",
       "    <tr>\n",
       "      <th>...</th>\n",
       "      <td>...</td>\n",
       "      <td>...</td>\n",
       "      <td>...</td>\n",
       "      <td>...</td>\n",
       "      <td>...</td>\n",
       "      <td>...</td>\n",
       "      <td>...</td>\n",
       "      <td>...</td>\n",
       "      <td>...</td>\n",
       "      <td>...</td>\n",
       "    </tr>\n",
       "    <tr>\n",
       "      <th>1595</th>\n",
       "      <td>2002T1</td>\n",
       "      <td>Navarra</td>\n",
       "      <td>6.03</td>\n",
       "      <td>13.51</td>\n",
       "      <td>5.03</td>\n",
       "      <td>3.67</td>\n",
       "      <td>9.68</td>\n",
       "      <td>1.5069</td>\n",
       "      <td>2002</td>\n",
       "      <td>1</td>\n",
       "    </tr>\n",
       "    <tr>\n",
       "      <th>1596</th>\n",
       "      <td>2002T1</td>\n",
       "      <td>País_Vasco</td>\n",
       "      <td>9.56</td>\n",
       "      <td>18.10</td>\n",
       "      <td>8.64</td>\n",
       "      <td>6.20</td>\n",
       "      <td>14.39</td>\n",
       "      <td>1.5069</td>\n",
       "      <td>2002</td>\n",
       "      <td>1</td>\n",
       "    </tr>\n",
       "    <tr>\n",
       "      <th>1597</th>\n",
       "      <td>2002T1</td>\n",
       "      <td>La_Rioja</td>\n",
       "      <td>7.05</td>\n",
       "      <td>15.05</td>\n",
       "      <td>6.04</td>\n",
       "      <td>5.75</td>\n",
       "      <td>9.41</td>\n",
       "      <td>1.5069</td>\n",
       "      <td>2002</td>\n",
       "      <td>1</td>\n",
       "    </tr>\n",
       "    <tr>\n",
       "      <th>1598</th>\n",
       "      <td>2002T1</td>\n",
       "      <td>Ceuta</td>\n",
       "      <td>7.01</td>\n",
       "      <td>23.28</td>\n",
       "      <td>4.80</td>\n",
       "      <td>4.57</td>\n",
       "      <td>12.12</td>\n",
       "      <td>1.5069</td>\n",
       "      <td>2002</td>\n",
       "      <td>1</td>\n",
       "    </tr>\n",
       "    <tr>\n",
       "      <th>1599</th>\n",
       "      <td>2002T1</td>\n",
       "      <td>Melilla</td>\n",
       "      <td>10.30</td>\n",
       "      <td>26.66</td>\n",
       "      <td>7.55</td>\n",
       "      <td>6.21</td>\n",
       "      <td>18.12</td>\n",
       "      <td>1.5069</td>\n",
       "      <td>2002</td>\n",
       "      <td>1</td>\n",
       "    </tr>\n",
       "  </tbody>\n",
       "</table>\n",
       "<p>1440 rows × 10 columns</p>\n",
       "</div>"
      ],
      "text/plain": [
       "     Periodo       Comunidad  Total  Menores_25  Mayores_25  Parados_hombres  \\\n",
       "160   2019T4  Total_Nacional  13.78       30.51       12.61            12.23   \n",
       "161   2019T4       Andalucía  20.80       41.00       19.31            17.82   \n",
       "162   2019T4          Aragón   9.93       22.57        9.05             8.70   \n",
       "163   2019T4        Asturias  13.14       30.55       12.39            12.71   \n",
       "164   2019T4  Islas_Baleares   9.91       25.75        8.76             9.43   \n",
       "...      ...             ...    ...         ...         ...              ...   \n",
       "1595  2002T1         Navarra   6.03       13.51        5.03             3.67   \n",
       "1596  2002T1      País_Vasco   9.56       18.10        8.64             6.20   \n",
       "1597  2002T1        La_Rioja   7.05       15.05        6.04             5.75   \n",
       "1598  2002T1           Ceuta   7.01       23.28        4.80             4.57   \n",
       "1599  2002T1         Melilla  10.30       26.66        7.55             6.21   \n",
       "\n",
       "      Parados_mujeres  Var_PIB   Año Trimestre  \n",
       "160             15.55   1.0641  2019         4  \n",
       "161             24.40   1.0641  2019         4  \n",
       "162             11.38   1.0641  2019         4  \n",
       "163             13.59   1.0641  2019         4  \n",
       "164             10.47   1.0641  2019         4  \n",
       "...               ...      ...   ...       ...  \n",
       "1595             9.68   1.5069  2002         1  \n",
       "1596            14.39   1.5069  2002         1  \n",
       "1597             9.41   1.5069  2002         1  \n",
       "1598            12.12   1.5069  2002         1  \n",
       "1599            18.12   1.5069  2002         1  \n",
       "\n",
       "[1440 rows x 10 columns]"
      ]
     },
     "execution_count": 217,
     "metadata": {},
     "output_type": "execute_result"
    }
   ],
   "source": [
    "# Añadimos la columna con los trimestres\n",
    "Paro_PIB_ajustado['Trimestre']=Lista_años[1]\n",
    "Paro_PIB_ajustado"
   ]
  },
  {
   "cell_type": "code",
   "execution_count": 218,
   "metadata": {},
   "outputs": [],
   "source": [
    "# Guardamos nuestro dataset definitivo como CSV para no perderlo.\n",
    "Paro_PIB_ajustado.to_csv('C:\\\\Users\\\\jmore\\\\THE_BRIDGE_FEB22\\\\EDA\\\\src\\\\data\\\\Paro_PIB_ajustado')"
   ]
  },
  {
   "cell_type": "markdown",
   "metadata": {},
   "source": [
    "> Volvemos a empezar el analisis con los datos definitivos"
   ]
  },
  {
   "cell_type": "code",
   "execution_count": 219,
   "metadata": {},
   "outputs": [
    {
     "data": {
      "text/plain": [
       "(1440, 10)"
      ]
     },
     "execution_count": 219,
     "metadata": {},
     "output_type": "execute_result"
    }
   ],
   "source": [
    "# Tamaño\n",
    "Paro_PIB_ajustado.shape"
   ]
  },
  {
   "cell_type": "code",
   "execution_count": 220,
   "metadata": {},
   "outputs": [
    {
     "name": "stdout",
     "output_type": "stream",
     "text": [
      "<class 'pandas.core.frame.DataFrame'>\n",
      "RangeIndex: 1440 entries, 160 to 1599\n",
      "Data columns (total 10 columns):\n",
      " #   Column           Non-Null Count  Dtype  \n",
      "---  ------           --------------  -----  \n",
      " 0   Periodo          1440 non-null   object \n",
      " 1   Comunidad        1440 non-null   object \n",
      " 2   Total            1440 non-null   float64\n",
      " 3   Menores_25       1440 non-null   float64\n",
      " 4   Mayores_25       1440 non-null   float64\n",
      " 5   Parados_hombres  1440 non-null   float64\n",
      " 6   Parados_mujeres  1440 non-null   float64\n",
      " 7   Var_PIB          1440 non-null   float64\n",
      " 8   Año              1440 non-null   object \n",
      " 9   Trimestre        1440 non-null   object \n",
      "dtypes: float64(6), object(4)\n",
      "memory usage: 112.6+ KB\n"
     ]
    }
   ],
   "source": [
    "# Información sobre las columnas\n",
    "Paro_PIB_ajustado.info()"
   ]
  },
  {
   "cell_type": "code",
   "execution_count": 221,
   "metadata": {},
   "outputs": [
    {
     "data": {
      "text/html": [
       "<div>\n",
       "<style scoped>\n",
       "    .dataframe tbody tr th:only-of-type {\n",
       "        vertical-align: middle;\n",
       "    }\n",
       "\n",
       "    .dataframe tbody tr th {\n",
       "        vertical-align: top;\n",
       "    }\n",
       "\n",
       "    .dataframe thead th {\n",
       "        text-align: right;\n",
       "    }\n",
       "</style>\n",
       "<table border=\"1\" class=\"dataframe\">\n",
       "  <thead>\n",
       "    <tr style=\"text-align: right;\">\n",
       "      <th></th>\n",
       "      <th>Total</th>\n",
       "      <th>Menores_25</th>\n",
       "      <th>Mayores_25</th>\n",
       "      <th>Parados_hombres</th>\n",
       "      <th>Parados_mujeres</th>\n",
       "      <th>Var_PIB</th>\n",
       "    </tr>\n",
       "  </thead>\n",
       "  <tbody>\n",
       "    <tr>\n",
       "      <th>count</th>\n",
       "      <td>1440.000000</td>\n",
       "      <td>1440.000000</td>\n",
       "      <td>1440.000000</td>\n",
       "      <td>1440.000000</td>\n",
       "      <td>1440.000000</td>\n",
       "      <td>1440.000000</td>\n",
       "    </tr>\n",
       "    <tr>\n",
       "      <th>mean</th>\n",
       "      <td>16.050646</td>\n",
       "      <td>35.158062</td>\n",
       "      <td>14.299319</td>\n",
       "      <td>14.219944</td>\n",
       "      <td>18.641660</td>\n",
       "      <td>0.785196</td>\n",
       "    </tr>\n",
       "    <tr>\n",
       "      <th>std</th>\n",
       "      <td>7.518449</td>\n",
       "      <td>15.271719</td>\n",
       "      <td>6.993594</td>\n",
       "      <td>7.524689</td>\n",
       "      <td>8.192455</td>\n",
       "      <td>1.015171</td>\n",
       "    </tr>\n",
       "    <tr>\n",
       "      <th>min</th>\n",
       "      <td>0.410000</td>\n",
       "      <td>0.000000</td>\n",
       "      <td>0.460000</td>\n",
       "      <td>0.000000</td>\n",
       "      <td>1.210000</td>\n",
       "      <td>-2.267600</td>\n",
       "    </tr>\n",
       "    <tr>\n",
       "      <th>25%</th>\n",
       "      <td>10.050000</td>\n",
       "      <td>22.212500</td>\n",
       "      <td>8.637500</td>\n",
       "      <td>7.907500</td>\n",
       "      <td>12.537500</td>\n",
       "      <td>0.150125</td>\n",
       "    </tr>\n",
       "    <tr>\n",
       "      <th>50%</th>\n",
       "      <td>14.795000</td>\n",
       "      <td>33.675000</td>\n",
       "      <td>13.230000</td>\n",
       "      <td>12.980000</td>\n",
       "      <td>16.810000</td>\n",
       "      <td>0.867850</td>\n",
       "    </tr>\n",
       "    <tr>\n",
       "      <th>75%</th>\n",
       "      <td>21.005000</td>\n",
       "      <td>46.625000</td>\n",
       "      <td>18.975000</td>\n",
       "      <td>19.560000</td>\n",
       "      <td>23.715000</td>\n",
       "      <td>1.529675</td>\n",
       "    </tr>\n",
       "    <tr>\n",
       "      <th>max</th>\n",
       "      <td>39.190000</td>\n",
       "      <td>90.350000</td>\n",
       "      <td>37.210000</td>\n",
       "      <td>39.890000</td>\n",
       "      <td>55.280000</td>\n",
       "      <td>2.330400</td>\n",
       "    </tr>\n",
       "  </tbody>\n",
       "</table>\n",
       "</div>"
      ],
      "text/plain": [
       "             Total   Menores_25   Mayores_25  Parados_hombres  \\\n",
       "count  1440.000000  1440.000000  1440.000000      1440.000000   \n",
       "mean     16.050646    35.158062    14.299319        14.219944   \n",
       "std       7.518449    15.271719     6.993594         7.524689   \n",
       "min       0.410000     0.000000     0.460000         0.000000   \n",
       "25%      10.050000    22.212500     8.637500         7.907500   \n",
       "50%      14.795000    33.675000    13.230000        12.980000   \n",
       "75%      21.005000    46.625000    18.975000        19.560000   \n",
       "max      39.190000    90.350000    37.210000        39.890000   \n",
       "\n",
       "       Parados_mujeres      Var_PIB  \n",
       "count      1440.000000  1440.000000  \n",
       "mean         18.641660     0.785196  \n",
       "std           8.192455     1.015171  \n",
       "min           1.210000    -2.267600  \n",
       "25%          12.537500     0.150125  \n",
       "50%          16.810000     0.867850  \n",
       "75%          23.715000     1.529675  \n",
       "max          55.280000     2.330400  "
      ]
     },
     "execution_count": 221,
     "metadata": {},
     "output_type": "execute_result"
    }
   ],
   "source": [
    "# Descripción en bruto del dataset, por columnas:\n",
    "Paro_PIB_ajustado.describe(include='float64')"
   ]
  },
  {
   "cell_type": "code",
   "execution_count": 222,
   "metadata": {},
   "outputs": [],
   "source": [
    "Total=np.array(Paro_PIB_ajustado['Total'].values)\n",
    "Menores_25=np.array(Paro_PIB_ajustado['Menores_25'].values)\n",
    "Mayores_25=np.array(Paro_PIB_ajustado['Mayores_25'].values)\n",
    "Parados_hombres=np.array(Paro_PIB_ajustado['Parados_hombres'].values)\n",
    "Parados_mujeres=np.array(Paro_PIB_ajustado['Parados_mujeres'].values)\n",
    "Var_PIB=np.array(Paro_PIB_ajustado['Var_PIB'].values)\n",
    "Periodo=np.array(Paro_PIB_ajustado['Periodo'].values)"
   ]
  },
  {
   "cell_type": "code",
   "execution_count": 223,
   "metadata": {},
   "outputs": [
    {
     "name": "stdout",
     "output_type": "stream",
     "text": [
      "[13.78 20.8   9.93 ...  7.05  7.01 10.3 ]\n",
      "[30.51 41.   22.57 ... 15.05 23.28 26.66]\n",
      "[12.61 19.31  9.05 ...  6.04  4.8   7.55]\n",
      "[12.23 17.82  8.7  ...  5.75  4.57  6.21]\n",
      "[15.55 24.4  11.38 ...  9.41 12.12 18.12]\n",
      "[1.0641 1.0641 1.0641 ... 1.5069 1.5069 1.5069]\n"
     ]
    }
   ],
   "source": [
    "print(Total)\n",
    "print(Menores_25)\n",
    "print(Mayores_25)\n",
    "print(Parados_hombres)\n",
    "print(Parados_mujeres)\n",
    "print(Var_PIB)"
   ]
  },
  {
   "cell_type": "code",
   "execution_count": 224,
   "metadata": {},
   "outputs": [],
   "source": [
    "# Calculamos la media de cada grupo\n",
    "Total_media=Total.mean()\n",
    "Menores_25_media=Menores_25.mean()\n",
    "Mayores_25_media=Mayores_25.mean()\n",
    "Parados_hombres_media=Parados_hombres.mean()\n",
    "Parados_mujeres_media=Parados_mujeres.mean()\n",
    "Var_PIB_media=Var_PIB.mean()"
   ]
  },
  {
   "cell_type": "code",
   "execution_count": 225,
   "metadata": {},
   "outputs": [],
   "source": [
    "# Calculamos la varianza de cada grupo\n",
    "Total_varianza=Total.var()\n",
    "Menores_25_varianza=Menores_25.var()\n",
    "Mayores_25_varianza=Mayores_25.var()\n",
    "Parados_hombres_varianza=Parados_hombres.var()\n",
    "Parados_mujeres_varianza=Parados_mujeres.var()\n",
    "Var_PIB_varianza=Var_PIB.var()"
   ]
  },
  {
   "cell_type": "code",
   "execution_count": 226,
   "metadata": {},
   "outputs": [
    {
     "data": {
      "text/plain": [
       "-3.4818309521369"
      ]
     },
     "execution_count": 226,
     "metadata": {},
     "output_type": "execute_result"
    }
   ],
   "source": [
    "# La covarianza entre el paro total y la variación del PIB es negativa, lo que quiere decir que estan relacionadas \n",
    "# de manera inversa, cuando una sube la otra baja.\n",
    "cov_paro_pib=np.cov(Var_PIB,Total)[0][1]\n",
    "cov_paro_pib"
   ]
  },
  {
   "cell_type": "code",
   "execution_count": 227,
   "metadata": {},
   "outputs": [
    {
     "data": {
      "text/plain": [
       "-0.4561839417943582"
      ]
     },
     "execution_count": 227,
     "metadata": {},
     "output_type": "execute_result"
    }
   ],
   "source": [
    "# Si estudiamos la correlación podemos verificar el resultado de la covarianza ya que es negartivo \n",
    "# por lo que las dos variables están relacionadas de manera inversa:\n",
    "corr_paro_pib = np.corrcoef(Var_PIB,Total)[0][1]\n",
    "corr_paro_pib"
   ]
  },
  {
   "cell_type": "markdown",
   "metadata": {},
   "source": [
    "> En los siguientes gráficos se puede ver esta correlación negativa ya que mientras que la gráfica del total de parados tiene forma cóncava, la gráfica de la tasa de variación del PIB es convexa:"
   ]
  },
  {
   "cell_type": "code",
   "execution_count": 228,
   "metadata": {},
   "outputs": [],
   "source": [
    "# Debido a la cantidad de datos que se maejan, los gráficos no salían bien si en el eje X se ponian los años,\n",
    "# Por lo que ese eje se tomará como un numero indice que aumenta donde 0 equivale al año 2002 y 1400 al año 2019."
   ]
  },
  {
   "cell_type": "code",
   "execution_count": 229,
   "metadata": {},
   "outputs": [
    {
     "data": {
      "text/plain": [
       "array([2019, 2018, 2017, 2016, 2015, 2014, 2013, 2012, 2011, 2010, 2009,\n",
       "       2008, 2007, 2006, 2005, 2004, 2003, 2002])"
      ]
     },
     "execution_count": 229,
     "metadata": {},
     "output_type": "execute_result"
    }
   ],
   "source": [
    "Años=np.array(range(2019,2001,-1))\n",
    "Años"
   ]
  },
  {
   "cell_type": "code",
   "execution_count": 252,
   "metadata": {},
   "outputs": [
    {
     "data": {
      "image/png": "[encoded data removed]",
      "text/plain": [
       "<Figure size 432x288 with 1 Axes>"
      ]
     },
     "metadata": {
      "needs_background": "light"
     },
     "output_type": "display_data"
    }
   ],
   "source": [
    "plt.plot(Total, label='Total');\n",
    "plt.plot(Menores_25,label='Menores_25');\n",
    "plt.plot(Mayores_25, label='Mayores25');\n",
    "plt.plot(Parados_hombres,label='Parados_hombres');\n",
    "plt.plot(Parados_mujeres,label='Parados_mujeres');\n",
    "plt.ylabel('Tasa de paro (%)')\n",
    "plt.xlabel('Paso del tiempo:'\n",
    "            '||0=2019||1400=2002|| ');\n",
    "plt.legend();\n"
   ]
  },
  {
   "cell_type": "code",
   "execution_count": 231,
   "metadata": {},
   "outputs": [
    {
     "data": {
      "image/png": "[encoded data removed]",
      "text/plain": [
       "<Figure size 432x288 with 1 Axes>"
      ]
     },
     "metadata": {
      "needs_background": "light"
     },
     "output_type": "display_data"
    }
   ],
   "source": [
    "plt.plot(Menores_25);\n",
    "plt.ylabel('Tasa de paro (%)')\n",
    "plt.xlabel('Paso del tiempo:'\n",
    "            '||0=2019||1400=2002|| ');"
   ]
  },
  {
   "cell_type": "code",
   "execution_count": 232,
   "metadata": {},
   "outputs": [
    {
     "data": {
      "image/png": "[encoded data removed]",
      "text/plain": [
       "<Figure size 432x288 with 1 Axes>"
      ]
     },
     "metadata": {
      "needs_background": "light"
     },
     "output_type": "display_data"
    }
   ],
   "source": [
    "plt.plot(Mayores_25);\n",
    "plt.ylabel('Tasa de paro (%)')\n",
    "plt.xlabel('Paso del tiempo:'\n",
    "            '||0=2019||1400=2002|| ');"
   ]
  },
  {
   "cell_type": "code",
   "execution_count": 233,
   "metadata": {},
   "outputs": [
    {
     "data": {
      "image/png": "[encoded data removed]",
      "text/plain": [
       "<Figure size 432x288 with 1 Axes>"
      ]
     },
     "metadata": {
      "needs_background": "light"
     },
     "output_type": "display_data"
    }
   ],
   "source": [
    "plt.plot(Parados_hombres);\n",
    "plt.ylabel('Tasa de paro (%)')\n",
    "plt.xlabel('Paso del tiempo:'\n",
    "            '||0=2019||1400=2002|| ');"
   ]
  },
  {
   "cell_type": "code",
   "execution_count": 234,
   "metadata": {},
   "outputs": [
    {
     "data": {
      "image/png": "[encoded data removed]",
      "text/plain": [
       "<Figure size 432x288 with 1 Axes>"
      ]
     },
     "metadata": {
      "needs_background": "light"
     },
     "output_type": "display_data"
    }
   ],
   "source": [
    "plt.plot(Parados_mujeres);\n",
    "plt.ylabel('Tasa de paro (%)')\n",
    "plt.xlabel('Paso del tiempo:'\n",
    "            '||0=2019||1400=2002|| ');"
   ]
  },
  {
   "cell_type": "code",
   "execution_count": 235,
   "metadata": {},
   "outputs": [
    {
     "data": {
      "image/png": "[encoded data removed]",
      "text/plain": [
       "<Figure size 432x288 with 1 Axes>"
      ]
     },
     "metadata": {
      "needs_background": "light"
     },
     "output_type": "display_data"
    }
   ],
   "source": [
    "plt.plot(Var_PIB);\n",
    "plt.ylabel('Tasa de variación del PIB (%)')\n",
    "plt.xlabel('Paso del tiempo:'\n",
    "            '||0=2019||1400=2002|| ');"
   ]
  },
  {
   "cell_type": "markdown",
   "metadata": {},
   "source": [
    ">Como podemos ver en los gráficos, tanto el paro total como todos los grupos de sexo y edad tienen la misma forma, por lo que se presupone que van a estar correlacionados del mismo modo, de todas formas vamos a ver los coeficientes de correlación de cada grupo para ver qué grupos se ven mas afectados por las variaciónes del PIB:"
   ]
  },
  {
   "cell_type": "code",
   "execution_count": 236,
   "metadata": {},
   "outputs": [
    {
     "name": "stdout",
     "output_type": "stream",
     "text": [
      "Para el grupo Menores_25 el coeficiente de correlación entre la variación del PIB y la tasa de paro es de -0.4844075817740141\n",
      "Para el grupo Mayores_25 el coeficiente de correlación entre la variación del PIB y la tasa de paro es de -0.45786141247544593\n",
      "Para el grupo Parados_hombres el coeficiente de correlación entre la variación del PIB y la tasa de paro es de -0.5328564800617882\n",
      "Para el grupo Parados_mujeres el coeficiente de correlación entre la variación del PIB y la tasa de paro es de -0.3108996031365061\n"
     ]
    }
   ],
   "source": [
    "Grupos=[Menores_25,Mayores_25,Parados_hombres,Parados_mujeres]\n",
    "Nombres=['Menores_25','Mayores_25','Parados_hombres','Parados_mujeres']\n",
    "Correlaciones=[]\n",
    "for i in Grupos:\n",
    "    Correlaciones.append(np.corrcoef(Var_PIB,i)[0][1])\n",
    "for i in range(4):\n",
    "    print(f'Para el grupo {Nombres[i]} el coeficiente de correlación entre la variación del PIB y la tasa de paro es de {Correlaciones[i]}')\n",
    "\n"
   ]
  },
  {
   "cell_type": "markdown",
   "metadata": {},
   "source": [
    "> Aquí se puede ver que los grupos que mas afectados se ven por las variaciónes del PIB son los hombres y los menores de 25 ya que el coeficiente de correlación está mas cercano a -1"
   ]
  },
  {
   "cell_type": "code",
   "execution_count": 237,
   "metadata": {},
   "outputs": [
    {
     "data": {
      "text/plain": [
       "Text(0, 0.5, 'Grupos de pobalcion')"
      ]
     },
     "execution_count": 237,
     "metadata": {},
     "output_type": "execute_result"
    },
    {
     "data": {
      "image/png": "[encoded data removed]",
      "text/plain": [
       "<Figure size 864x432 with 1 Axes>"
      ]
     },
     "metadata": {
      "needs_background": "light"
     },
     "output_type": "display_data"
    }
   ],
   "source": [
    "X=Nombres\n",
    "Y=Correlaciones\n",
    "plt.figure(figsize=(12,6))\n",
    "plt.barh(X,Y, color=('g','r','b','m'))\n",
    "plt.xlabel('Coeficiente de Correlación')\n",
    "plt.ylabel('Grupos de pobalcion')"
   ]
  },
  {
   "cell_type": "markdown",
   "metadata": {},
   "source": [
    "## 4. Conclusiones"
   ]
  },
  {
   "cell_type": "markdown",
   "metadata": {},
   "source": [
    "### 1. Datos atípicos\n",
    "Como podemos observar en el primer gráfico, los datos durante la epoca del covid son totalmente atípicos alcanzando variaciónes del PIB superiores al 15%, por lo tanto las hemos eliminado de nuestro dataset ya que iban a distorsionar bastante la realidad."
   ]
  },
  {
   "cell_type": "markdown",
   "metadata": {},
   "source": [
    "### 2. Tasas de paro media\n",
    "Como podemos observar en las diferentes medias, los mas afectados en general por el paro son los menores de 25 ya que estos alcanzan una tasa media superior al 35%, siendo la media total de la tasa de paro de un 16%. El resto de grupos son bastante parejos, ya que el conjunto de mayores de 25 y el conjunto de hombres rondan el 14% ambos, siendo el conjunto poblacional femenino el segundo mas afectado con una tasa de paro media del 18%, mas o menos la mitad que el primero."
   ]
  },
  {
   "cell_type": "code",
   "execution_count": 238,
   "metadata": {},
   "outputs": [
    {
     "data": {
      "text/html": [
       "<div>\n",
       "<style scoped>\n",
       "    .dataframe tbody tr th:only-of-type {\n",
       "        vertical-align: middle;\n",
       "    }\n",
       "\n",
       "    .dataframe tbody tr th {\n",
       "        vertical-align: top;\n",
       "    }\n",
       "\n",
       "    .dataframe thead th {\n",
       "        text-align: right;\n",
       "    }\n",
       "</style>\n",
       "<table border=\"1\" class=\"dataframe\">\n",
       "  <thead>\n",
       "    <tr style=\"text-align: right;\">\n",
       "      <th></th>\n",
       "      <th>Total</th>\n",
       "      <th>Menores_25</th>\n",
       "      <th>Mayores_25</th>\n",
       "      <th>Parados_hombres</th>\n",
       "      <th>Parados_mujeres</th>\n",
       "      <th>Var_PIB</th>\n",
       "    </tr>\n",
       "  </thead>\n",
       "  <tbody>\n",
       "    <tr>\n",
       "      <th>count</th>\n",
       "      <td>1440.000000</td>\n",
       "      <td>1440.000000</td>\n",
       "      <td>1440.000000</td>\n",
       "      <td>1440.000000</td>\n",
       "      <td>1440.000000</td>\n",
       "      <td>1440.000000</td>\n",
       "    </tr>\n",
       "    <tr>\n",
       "      <th>mean</th>\n",
       "      <td>16.050646</td>\n",
       "      <td>35.158062</td>\n",
       "      <td>14.299319</td>\n",
       "      <td>14.219944</td>\n",
       "      <td>18.641660</td>\n",
       "      <td>0.785196</td>\n",
       "    </tr>\n",
       "    <tr>\n",
       "      <th>std</th>\n",
       "      <td>7.518449</td>\n",
       "      <td>15.271719</td>\n",
       "      <td>6.993594</td>\n",
       "      <td>7.524689</td>\n",
       "      <td>8.192455</td>\n",
       "      <td>1.015171</td>\n",
       "    </tr>\n",
       "    <tr>\n",
       "      <th>min</th>\n",
       "      <td>0.410000</td>\n",
       "      <td>0.000000</td>\n",
       "      <td>0.460000</td>\n",
       "      <td>0.000000</td>\n",
       "      <td>1.210000</td>\n",
       "      <td>-2.267600</td>\n",
       "    </tr>\n",
       "    <tr>\n",
       "      <th>25%</th>\n",
       "      <td>10.050000</td>\n",
       "      <td>22.212500</td>\n",
       "      <td>8.637500</td>\n",
       "      <td>7.907500</td>\n",
       "      <td>12.537500</td>\n",
       "      <td>0.150125</td>\n",
       "    </tr>\n",
       "    <tr>\n",
       "      <th>50%</th>\n",
       "      <td>14.795000</td>\n",
       "      <td>33.675000</td>\n",
       "      <td>13.230000</td>\n",
       "      <td>12.980000</td>\n",
       "      <td>16.810000</td>\n",
       "      <td>0.867850</td>\n",
       "    </tr>\n",
       "    <tr>\n",
       "      <th>75%</th>\n",
       "      <td>21.005000</td>\n",
       "      <td>46.625000</td>\n",
       "      <td>18.975000</td>\n",
       "      <td>19.560000</td>\n",
       "      <td>23.715000</td>\n",
       "      <td>1.529675</td>\n",
       "    </tr>\n",
       "    <tr>\n",
       "      <th>max</th>\n",
       "      <td>39.190000</td>\n",
       "      <td>90.350000</td>\n",
       "      <td>37.210000</td>\n",
       "      <td>39.890000</td>\n",
       "      <td>55.280000</td>\n",
       "      <td>2.330400</td>\n",
       "    </tr>\n",
       "  </tbody>\n",
       "</table>\n",
       "</div>"
      ],
      "text/plain": [
       "             Total   Menores_25   Mayores_25  Parados_hombres  \\\n",
       "count  1440.000000  1440.000000  1440.000000      1440.000000   \n",
       "mean     16.050646    35.158062    14.299319        14.219944   \n",
       "std       7.518449    15.271719     6.993594         7.524689   \n",
       "min       0.410000     0.000000     0.460000         0.000000   \n",
       "25%      10.050000    22.212500     8.637500         7.907500   \n",
       "50%      14.795000    33.675000    13.230000        12.980000   \n",
       "75%      21.005000    46.625000    18.975000        19.560000   \n",
       "max      39.190000    90.350000    37.210000        39.890000   \n",
       "\n",
       "       Parados_mujeres      Var_PIB  \n",
       "count      1440.000000  1440.000000  \n",
       "mean         18.641660     0.785196  \n",
       "std           8.192455     1.015171  \n",
       "min           1.210000    -2.267600  \n",
       "25%          12.537500     0.150125  \n",
       "50%          16.810000     0.867850  \n",
       "75%          23.715000     1.529675  \n",
       "max          55.280000     2.330400  "
      ]
     },
     "execution_count": 238,
     "metadata": {},
     "output_type": "execute_result"
    }
   ],
   "source": [
    "Paro_PIB_ajustado.describe(include='float64')"
   ]
  },
  {
   "cell_type": "markdown",
   "metadata": {},
   "source": [
    "### 3. Relación entre la tasa de variación del PIB y la tasa de Paro"
   ]
  },
  {
   "cell_type": "markdown",
   "metadata": {},
   "source": [
    "#### 3.1 Conjunto total de la población\n",
    "Tanto la covarianza como el coeficiente de correlación entre la tasa de variación del PIB y la tasa de paro son negativas, lo que significa que están correlacionadas de manera inversa, es decir, cuando una sube, la otra baja, cuanto mas cerca de -1 mas grande es esta correlación, es decir, mas afectan las bajadas y las subidas, y cuanto mas cercano a 0 menos afecta. \n",
    "\n",
    "Lo podemos observar en los gráficos aportados, donde en la tasa de paro podemos ver una tendecia cóncava mientras que la de la tasa de variación del PIB es convexa."
   ]
  },
  {
   "cell_type": "code",
   "execution_count": 239,
   "metadata": {},
   "outputs": [
    {
     "name": "stdout",
     "output_type": "stream",
     "text": [
      "La covarianza del cojunto total de la poblacion sería de -3.4818309521369 y el coeficiente de correlación sería del -0.4561839417943582\n"
     ]
    }
   ],
   "source": [
    "print(f'La covarianza del cojunto total de la poblacion sería de {cov_paro_pib} y' \n",
    "      f' el coeficiente de correlación sería del {corr_paro_pib}')"
   ]
  },
  {
   "cell_type": "code",
   "execution_count": 240,
   "metadata": {},
   "outputs": [
    {
     "data": {
      "image/png": "[encoded data removed]",
      "text/plain": [
       "<Figure size 432x288 with 1 Axes>"
      ]
     },
     "metadata": {
      "needs_background": "light"
     },
     "output_type": "display_data"
    }
   ],
   "source": [
    "plt.plot(Total);\n",
    "plt.ylabel('Tasa de paro (%)')\n",
    "plt.xlabel('Paso del tiempo:'\n",
    "            '||0=2019||1400=2002|| ');"
   ]
  },
  {
   "cell_type": "code",
   "execution_count": 241,
   "metadata": {},
   "outputs": [
    {
     "data": {
      "image/png": "[encoded data removed]",
      "text/plain": [
       "<Figure size 432x288 with 1 Axes>"
      ]
     },
     "metadata": {
      "needs_background": "light"
     },
     "output_type": "display_data"
    }
   ],
   "source": [
    "plt.plot(Var_PIB);\n",
    "plt.ylabel('Tasa de variación del PIB (%)')\n",
    "plt.xlabel('Paso del tiempo:'\n",
    "            '||0=2019||1400=2002|| ');\n",
    "        "
   ]
  },
  {
   "cell_type": "markdown",
   "metadata": {},
   "source": [
    "#### 3.2 Conjunto poblacional por edades\n",
    "Si comparamos el coeficiente de correlación de los menores de 25 con el de los mayores de 25 podemos apreciar que es un poco mayor el de los menores de 25, lo que quiere decir que ante una bajada de la tasa de variación del PIB, la tasa de paro de los menores de 25 aumentará mas que la de los mayores de 25.\n",
    "En los gráficos también se puede apreciar esa forma cóncava, contraria a la gráfica de variación del PIB, siendo mas acentuada la concavidad de los menores de 25, indicando una mayor sensibilidad ante las variaciones del PIB, tal y como se veía con el coeficiente de correlación."
   ]
  },
  {
   "cell_type": "code",
   "execution_count": 242,
   "metadata": {},
   "outputs": [
    {
     "name": "stdout",
     "output_type": "stream",
     "text": [
      "Para el grupo Menores_25 el coeficiente de correlación entre la variación del PIB y la tasa de paro es de -0.4844075817740141\n",
      "Para el grupo Mayores_25 el coeficiente de correlación entre la variación del PIB y la tasa de paro es de -0.45786141247544593\n"
     ]
    }
   ],
   "source": [
    "for i in Grupos:\n",
    "    Correlaciones.append(np.corrcoef(Var_PIB,i)[0][1])\n",
    "for i in range(2):\n",
    "    print(f'Para el grupo {Nombres[i]} el coeficiente de correlación entre la variación del PIB y' \n",
    "          f' la tasa de paro es de {Correlaciones[i]}')"
   ]
  },
  {
   "cell_type": "code",
   "execution_count": 243,
   "metadata": {},
   "outputs": [
    {
     "data": {
      "image/png": "[encoded data removed]",
      "text/plain": [
       "<Figure size 432x288 with 1 Axes>"
      ]
     },
     "metadata": {
      "needs_background": "light"
     },
     "output_type": "display_data"
    }
   ],
   "source": [
    "plt.plot(Menores_25,label='Menores 25');\n",
    "plt.plot(Mayores_25,label='Mayores 25');\n",
    "plt.ylabel('Tasa de paro (%)')\n",
    "plt.xlabel('Paso del tiempo:'\n",
    "            '||0=2019||1400=2002|| ');\n",
    "plt.legend();"
   ]
  },
  {
   "cell_type": "markdown",
   "metadata": {},
   "source": [
    "#### 3.3 Conjunto poblacional por sexos\n",
    "Si comparamos el coeficiente de correlación de los hombres parados con el de las mujeres paradas podemos apreciar que es significativamente mayor el de los hombres parados, lo que quiere decir que ante una bajada de la tasa de variación del PIB, la tasa de paro de los hombres aumentará mas que la de las mujeres.\n",
    "En los gráficos también se puede apreciar esa forma cóncava, contraria a la gráfica de variación del PIB, siendo mas acentuada la concavidad de los hombres parados, indicando una mayor sensibilidad ante las variaciones del PIB, tal y como se veía con el coeficiente de correlación."
   ]
  },
  {
   "cell_type": "code",
   "execution_count": 244,
   "metadata": {},
   "outputs": [
    {
     "name": "stdout",
     "output_type": "stream",
     "text": [
      "Para el grupo Parados_hombres el coeficiente de correlación entre la variación del PIB y la tasa de paro es de -0.5328564800617882\n",
      "Para el grupo Parados_mujeres el coeficiente de correlación entre la variación del PIB y la tasa de paro es de -0.3108996031365061\n"
     ]
    }
   ],
   "source": [
    "for i in Grupos:\n",
    "    Correlaciones.append(np.corrcoef(Var_PIB,i)[0][1])\n",
    "for i in range(2,4):\n",
    "    print(f'Para el grupo {Nombres[i]} el coeficiente de correlación entre la variación del PIB' \n",
    "          f' y la tasa de paro es de {Correlaciones[i]}')"
   ]
  },
  {
   "cell_type": "code",
   "execution_count": 245,
   "metadata": {},
   "outputs": [
    {
     "data": {
      "image/png": "[encoded data removed]",
      "text/plain": [
       "<Figure size 432x288 with 1 Axes>"
      ]
     },
     "metadata": {
      "needs_background": "light"
     },
     "output_type": "display_data"
    }
   ],
   "source": [
    "plt.plot(Parados_hombres);\n",
    "plt.ylabel('Tasa de paro (%)')\n",
    "plt.xlabel('Paso del tiempo:'\n",
    "            '||0=2019||1400=2002|| ');\n"
   ]
  },
  {
   "cell_type": "code",
   "execution_count": 246,
   "metadata": {},
   "outputs": [
    {
     "data": {
      "image/png": "[encoded data removed]",
      "text/plain": [
       "<Figure size 432x288 with 1 Axes>"
      ]
     },
     "metadata": {
      "needs_background": "light"
     },
     "output_type": "display_data"
    }
   ],
   "source": [
    "plt.plot(Parados_mujeres);\n",
    "plt.ylabel('Tasa de paro (%)')\n",
    "plt.xlabel('Paso del tiempo:'\n",
    "            '||0=2019||1400=2002|| ');"
   ]
  },
  {
   "cell_type": "markdown",
   "metadata": {},
   "source": [
    "### 4. Conclusiónes generales:\n",
    "\n",
    "#### 4.1 Grupo mas afectado por el paro:\n",
    "Los mas afectados por el paro son los menores de 25, independientemente de si el PIB aumenta o disminuye ya que de media hay muchos mas parados menores de 25 que cualquier otro conjunto poblacional (35%), llegando a ser este casi el doble del segundo grupo con mas tasa media de paro, las mujeres (18%).\n",
    "#### 4.2 Grupo menos afectado por el paro:\n",
    "El grupo menos afectado por el paro es sin duda el conjunto poblacional formado por personas mayores de 25 años, ya que a pesar de tener de media un 1% mas de paro que el conjunto de los hombres, el coeficiente de correlación de los hombres es mucho mas cercano a -1, es decir, que ante una bajada del PIB, el paro del conjunto de los hombres aumentará mas que el conjunto de los mayores de 25 años.\n",
    "#### 4.2 Grupo mas sensible a las variaciones del PIB:\n",
    "Sin duda alguna, el grupo al que mas afectan las variaciones del PIB es el conjunto de los hombres, ya que aunque es el grupo que menos paro presenta de todos también es el que tiene una correlación mas cercana a -1 de todos, es decir, que ante una bajada del PIB son el grupo donde mas trabajo se va a destruir, y en cambio ante una epoca de prosperidad donde el PIB aumenta, es el conjunto de la población donde mas trabajo se va a generar.\n",
    "#### 4.3 Grupo con mayor estabilidad laboral:\n",
    "Sin duda alguna, en este ámbito el caballo ganador son las mujeres, a pesar de tener una tasa de paro media ligeramente superior a la media total, masculina y de mayores de 25, su coeficiente de correlación es de tan solo un -0.3, es decir, el mas alejado de -1 de todos, por lo que ante una bajada del PIB (recesión) las mujeres que estén empleadas tendrán mas posibilidades de mantener sus empleos ya que la tasa de paro de las mujeres no aumenta tanto ante las caídas del PIB. Por el contrario, ante una situación de expansión o aumento del PIB no se generará tanto empleo como en los otros grupos."
   ]
  },
  {
   "cell_type": "code",
   "execution_count": 247,
   "metadata": {},
   "outputs": [
    {
     "name": "stdout",
     "output_type": "stream",
     "text": [
      "Para el grupo Menores_25 el coeficiente de correlación entre la variación del PIB y la tasa de paro es de -0.4844075817740141\n",
      "Para el grupo Mayores_25 el coeficiente de correlación entre la variación del PIB y la tasa de paro es de -0.45786141247544593\n",
      "Para el grupo Parados_hombres el coeficiente de correlación entre la variación del PIB y la tasa de paro es de -0.5328564800617882\n",
      "Para el grupo Parados_mujeres el coeficiente de correlación entre la variación del PIB y la tasa de paro es de -0.3108996031365061\n"
     ]
    }
   ],
   "source": [
    "Grupos=[Menores_25,Mayores_25,Parados_hombres,Parados_mujeres]\n",
    "Nombres=['Menores_25','Mayores_25','Parados_hombres','Parados_mujeres']\n",
    "Correlaciones=[]\n",
    "for i in Grupos:\n",
    "    Correlaciones.append(np.corrcoef(Var_PIB,i)[0][1])\n",
    "for i in range(4):\n",
    "    print(f'Para el grupo {Nombres[i]} el coeficiente de correlación entre la variación del PIB y '\n",
    "    f'la tasa de paro es de {Correlaciones[i]}')\n"
   ]
  },
  {
   "cell_type": "code",
   "execution_count": 248,
   "metadata": {},
   "outputs": [
    {
     "data": {
      "image/png": "[encoded data removed]",
      "text/plain": [
       "<Figure size 864x432 with 1 Axes>"
      ]
     },
     "metadata": {
      "needs_background": "light"
     },
     "output_type": "display_data"
    }
   ],
   "source": [
    "X=Nombres\n",
    "Y=Correlaciones\n",
    "plt.figure(figsize=(12,6))\n",
    "plt.barh(X,Y, color=('g','r','b','m'))\n",
    "plt.xlabel('Coeficiente de Correlación')\n",
    "plt.ylabel('Grupos de pobalcion');"
   ]
  }
 ],
 "metadata": {
  "interpreter": {
   "hash": "e63f4b220dac8a408dc55964ce56a428fcadbd2045657a84182dcddb452e3d48"
  },
  "kernelspec": {
   "display_name": "Python 3.9.5 ('the_bridge_22')",
   "language": "python",
   "name": "python3"
  },
  "language_info": {
   "codemirror_mode": {
    "name": "ipython",
    "version": 3
   },
   "file_extension": ".py",
   "mimetype": "text/x-python",
   "name": "python",
   "nbconvert_exporter": "python",
   "pygments_lexer": "ipython3",
   "version": "3.9.5"
  },
  "orig_nbformat": 4
 },
 "nbformat": 4,
 "nbformat_minor": 2
}
